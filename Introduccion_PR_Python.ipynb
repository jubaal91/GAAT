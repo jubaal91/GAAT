{
  "nbformat": 4,
  "nbformat_minor": 0,
  "metadata": {
    "colab": {
      "provenance": [],
      "toc_visible": true,
      "authorship_tag": "ABX9TyNGleQ0wXQpsxoCXHM3aVP+",
      "include_colab_link": true
    },
    "kernelspec": {
      "name": "python3",
      "display_name": "Python 3"
    },
    "language_info": {
      "name": "python"
    }
  },
  "cells": [
    {
      "cell_type": "markdown",
      "metadata": {
        "id": "view-in-github",
        "colab_type": "text"
      },
      "source": [
        "<a href=\"https://colab.research.google.com/github/jubaal91/GAAT/blob/main/Introduccion_PR_Python.ipynb\" target=\"_parent\"><img src=\"https://colab.research.google.com/assets/colab-badge.svg\" alt=\"Open In Colab\"/></a>"
      ]
    },
    {
      "cell_type": "markdown",
      "source": [
        "# Introducción a la Percepción Remota con GEE\n",
        "\n",
        "\n"
      ],
      "metadata": {
        "id": "MJPj8q4FcT9g"
      }
    },
    {
      "cell_type": "markdown",
      "source": [
        "### Librerías y Pres"
      ],
      "metadata": {
        "id": "NPpXV8Urcmlv"
      }
    },
    {
      "cell_type": "code",
      "execution_count": 1,
      "metadata": {
        "id": "GeLtJHFV_umb"
      },
      "outputs": [],
      "source": [
        "#Librerías comunes para trabajar con imagenes\n",
        "import pandas as pd\n",
        "import geopandas as gpd\n",
        "\n",
        "#Earth Engine: Nos permite visualizar y manipular imagenes de satélite sin necesidad de descargarlas\n",
        "import ee\n",
        "\n",
        "#Permite visualizar imagenes dentro del notebook\n",
        "from IPython.display import Image\n",
        "\n",
        "#Leer las fechas\n",
        "import datetime"
      ]
    },
    {
      "cell_type": "code",
      "source": [
        "#Autentificación para acceder a EE\n",
        "ee.Authenticate()\n",
        "\n",
        "# Inicialización, es necesario definir el proyecto donde se trabajará\n",
        "ee.Initialize(project='ee-jubaal91')"
      ],
      "metadata": {
        "colab": {
          "base_uri": "https://localhost:8080/"
        },
        "id": "cxP6H57GbAWO",
        "outputId": "a6f3cd09-561d-4946-9d64-08610fa66505"
      },
      "execution_count": 2,
      "outputs": [
        {
          "output_type": "stream",
          "name": "stderr",
          "text": [
            "*** Earth Engine *** Share your feedback by taking our Annual Developer Satisfaction Survey: https://google.qualtrics.com/jfe/form/SV_7TDKVSyKvBdmMqW?ref=4i2o6\n"
          ]
        }
      ]
    },
    {
      "cell_type": "code",
      "source": [
        "#Coordenadas del Incendio\n",
        "\n",
        "lat = 22.07683\n",
        "lon = -101.00216\n",
        "\n",
        "#Punto de interés tomando las coordenadas\n",
        "poi = ee.Geometry.Point(lon,lat)\n",
        "\n",
        "#Fecha de inicio\n",
        "start_date = '2024-04-01'\n",
        "\n",
        "#Fecha final\n",
        "end_date = '2024-04-30'"
      ],
      "metadata": {
        "id": "KUFup74-bXXM"
      },
      "execution_count": 17,
      "outputs": []
    },
    {
      "cell_type": "code",
      "source": [
        "#Obtener las imagenes del satélite Sentinel 2\n",
        "sentinel = ee.ImageCollection(\"COPERNICUS/S2_SR\")\\\n",
        "            .filterBounds(poi)\\\n",
        "            .filterDate(start_date,end_date)"
      ],
      "metadata": {
        "id": "hKVqxRYsI_Gu"
      },
      "execution_count": 18,
      "outputs": []
    },
    {
      "cell_type": "code",
      "source": [
        "#¿Cuántas imagenes hay de la zona?\n",
        "print('Total number:', sentinel.size().getInfo())"
      ],
      "metadata": {
        "colab": {
          "base_uri": "https://localhost:8080/"
        },
        "id": "S2bFPT_yJCo4",
        "outputId": "99784825-7a12-40d0-d202-3d982851bc96"
      },
      "execution_count": 19,
      "outputs": [
        {
          "output_type": "stream",
          "name": "stdout",
          "text": [
            "Total number: 7\n"
          ]
        }
      ]
    },
    {
      "cell_type": "code",
      "source": [
        "#Información acerca de la primera imagen\n",
        "#Es util para conocer el nombre de los campos, en caso de que sea necesario consultar información de ellos\n",
        "sentinel.first().getInfo()"
      ],
      "metadata": {
        "colab": {
          "base_uri": "https://localhost:8080/"
        },
        "id": "jE8aPJSHJGDS",
        "outputId": "e289afb0-0e3b-4964-ee8a-7ae07d531039"
      },
      "execution_count": 20,
      "outputs": [
        {
          "output_type": "execute_result",
          "data": {
            "text/plain": [
              "{'type': 'Image',\n",
              " 'bands': [{'id': 'B1',\n",
              "   'data_type': {'type': 'PixelType',\n",
              "    'precision': 'int',\n",
              "    'min': 0,\n",
              "    'max': 65535},\n",
              "   'dimensions': [1830, 1830],\n",
              "   'crs': 'EPSG:32614',\n",
              "   'crs_transform': [60, 0, 199980, 0, -60, 2500020]},\n",
              "  {'id': 'B2',\n",
              "   'data_type': {'type': 'PixelType',\n",
              "    'precision': 'int',\n",
              "    'min': 0,\n",
              "    'max': 65535},\n",
              "   'dimensions': [10980, 10980],\n",
              "   'crs': 'EPSG:32614',\n",
              "   'crs_transform': [10, 0, 199980, 0, -10, 2500020]},\n",
              "  {'id': 'B3',\n",
              "   'data_type': {'type': 'PixelType',\n",
              "    'precision': 'int',\n",
              "    'min': 0,\n",
              "    'max': 65535},\n",
              "   'dimensions': [10980, 10980],\n",
              "   'crs': 'EPSG:32614',\n",
              "   'crs_transform': [10, 0, 199980, 0, -10, 2500020]},\n",
              "  {'id': 'B4',\n",
              "   'data_type': {'type': 'PixelType',\n",
              "    'precision': 'int',\n",
              "    'min': 0,\n",
              "    'max': 65535},\n",
              "   'dimensions': [10980, 10980],\n",
              "   'crs': 'EPSG:32614',\n",
              "   'crs_transform': [10, 0, 199980, 0, -10, 2500020]},\n",
              "  {'id': 'B5',\n",
              "   'data_type': {'type': 'PixelType',\n",
              "    'precision': 'int',\n",
              "    'min': 0,\n",
              "    'max': 65535},\n",
              "   'dimensions': [5490, 5490],\n",
              "   'crs': 'EPSG:32614',\n",
              "   'crs_transform': [20, 0, 199980, 0, -20, 2500020]},\n",
              "  {'id': 'B6',\n",
              "   'data_type': {'type': 'PixelType',\n",
              "    'precision': 'int',\n",
              "    'min': 0,\n",
              "    'max': 65535},\n",
              "   'dimensions': [5490, 5490],\n",
              "   'crs': 'EPSG:32614',\n",
              "   'crs_transform': [20, 0, 199980, 0, -20, 2500020]},\n",
              "  {'id': 'B7',\n",
              "   'data_type': {'type': 'PixelType',\n",
              "    'precision': 'int',\n",
              "    'min': 0,\n",
              "    'max': 65535},\n",
              "   'dimensions': [5490, 5490],\n",
              "   'crs': 'EPSG:32614',\n",
              "   'crs_transform': [20, 0, 199980, 0, -20, 2500020]},\n",
              "  {'id': 'B8',\n",
              "   'data_type': {'type': 'PixelType',\n",
              "    'precision': 'int',\n",
              "    'min': 0,\n",
              "    'max': 65535},\n",
              "   'dimensions': [10980, 10980],\n",
              "   'crs': 'EPSG:32614',\n",
              "   'crs_transform': [10, 0, 199980, 0, -10, 2500020]},\n",
              "  {'id': 'B8A',\n",
              "   'data_type': {'type': 'PixelType',\n",
              "    'precision': 'int',\n",
              "    'min': 0,\n",
              "    'max': 65535},\n",
              "   'dimensions': [5490, 5490],\n",
              "   'crs': 'EPSG:32614',\n",
              "   'crs_transform': [20, 0, 199980, 0, -20, 2500020]},\n",
              "  {'id': 'B9',\n",
              "   'data_type': {'type': 'PixelType',\n",
              "    'precision': 'int',\n",
              "    'min': 0,\n",
              "    'max': 65535},\n",
              "   'dimensions': [1830, 1830],\n",
              "   'crs': 'EPSG:32614',\n",
              "   'crs_transform': [60, 0, 199980, 0, -60, 2500020]},\n",
              "  {'id': 'B11',\n",
              "   'data_type': {'type': 'PixelType',\n",
              "    'precision': 'int',\n",
              "    'min': 0,\n",
              "    'max': 65535},\n",
              "   'dimensions': [5490, 5490],\n",
              "   'crs': 'EPSG:32614',\n",
              "   'crs_transform': [20, 0, 199980, 0, -20, 2500020]},\n",
              "  {'id': 'B12',\n",
              "   'data_type': {'type': 'PixelType',\n",
              "    'precision': 'int',\n",
              "    'min': 0,\n",
              "    'max': 65535},\n",
              "   'dimensions': [5490, 5490],\n",
              "   'crs': 'EPSG:32614',\n",
              "   'crs_transform': [20, 0, 199980, 0, -20, 2500020]},\n",
              "  {'id': 'AOT',\n",
              "   'data_type': {'type': 'PixelType',\n",
              "    'precision': 'int',\n",
              "    'min': 0,\n",
              "    'max': 65535},\n",
              "   'dimensions': [10980, 10980],\n",
              "   'crs': 'EPSG:32614',\n",
              "   'crs_transform': [10, 0, 199980, 0, -10, 2500020]},\n",
              "  {'id': 'WVP',\n",
              "   'data_type': {'type': 'PixelType',\n",
              "    'precision': 'int',\n",
              "    'min': 0,\n",
              "    'max': 65535},\n",
              "   'dimensions': [10980, 10980],\n",
              "   'crs': 'EPSG:32614',\n",
              "   'crs_transform': [10, 0, 199980, 0, -10, 2500020]},\n",
              "  {'id': 'SCL',\n",
              "   'data_type': {'type': 'PixelType',\n",
              "    'precision': 'int',\n",
              "    'min': 0,\n",
              "    'max': 255},\n",
              "   'dimensions': [5490, 5490],\n",
              "   'crs': 'EPSG:32614',\n",
              "   'crs_transform': [20, 0, 199980, 0, -20, 2500020]},\n",
              "  {'id': 'TCI_R',\n",
              "   'data_type': {'type': 'PixelType',\n",
              "    'precision': 'int',\n",
              "    'min': 0,\n",
              "    'max': 255},\n",
              "   'dimensions': [10980, 10980],\n",
              "   'crs': 'EPSG:32614',\n",
              "   'crs_transform': [10, 0, 199980, 0, -10, 2500020]},\n",
              "  {'id': 'TCI_G',\n",
              "   'data_type': {'type': 'PixelType',\n",
              "    'precision': 'int',\n",
              "    'min': 0,\n",
              "    'max': 255},\n",
              "   'dimensions': [10980, 10980],\n",
              "   'crs': 'EPSG:32614',\n",
              "   'crs_transform': [10, 0, 199980, 0, -10, 2500020]},\n",
              "  {'id': 'TCI_B',\n",
              "   'data_type': {'type': 'PixelType',\n",
              "    'precision': 'int',\n",
              "    'min': 0,\n",
              "    'max': 255},\n",
              "   'dimensions': [10980, 10980],\n",
              "   'crs': 'EPSG:32614',\n",
              "   'crs_transform': [10, 0, 199980, 0, -10, 2500020]},\n",
              "  {'id': 'MSK_CLDPRB',\n",
              "   'data_type': {'type': 'PixelType',\n",
              "    'precision': 'int',\n",
              "    'min': 0,\n",
              "    'max': 255},\n",
              "   'dimensions': [5490, 5490],\n",
              "   'crs': 'EPSG:32614',\n",
              "   'crs_transform': [20, 0, 199980, 0, -20, 2500020]},\n",
              "  {'id': 'MSK_SNWPRB',\n",
              "   'data_type': {'type': 'PixelType',\n",
              "    'precision': 'int',\n",
              "    'min': 0,\n",
              "    'max': 255},\n",
              "   'dimensions': [5490, 5490],\n",
              "   'crs': 'EPSG:32614',\n",
              "   'crs_transform': [20, 0, 199980, 0, -20, 2500020]},\n",
              "  {'id': 'MSK_CLASSI_OPAQUE',\n",
              "   'data_type': {'type': 'PixelType',\n",
              "    'precision': 'int',\n",
              "    'min': 0,\n",
              "    'max': 255},\n",
              "   'dimensions': [1830, 1830],\n",
              "   'crs': 'EPSG:32614',\n",
              "   'crs_transform': [60, 0, 199980, 0, -60, 2500020]},\n",
              "  {'id': 'MSK_CLASSI_CIRRUS',\n",
              "   'data_type': {'type': 'PixelType',\n",
              "    'precision': 'int',\n",
              "    'min': 0,\n",
              "    'max': 255},\n",
              "   'dimensions': [1830, 1830],\n",
              "   'crs': 'EPSG:32614',\n",
              "   'crs_transform': [60, 0, 199980, 0, -60, 2500020]},\n",
              "  {'id': 'MSK_CLASSI_SNOW_ICE',\n",
              "   'data_type': {'type': 'PixelType',\n",
              "    'precision': 'int',\n",
              "    'min': 0,\n",
              "    'max': 255},\n",
              "   'dimensions': [1830, 1830],\n",
              "   'crs': 'EPSG:32614',\n",
              "   'crs_transform': [60, 0, 199980, 0, -60, 2500020]}],\n",
              " 'version': 1741740155615503,\n",
              " 'id': 'COPERNICUS/S2_SR/20240403T170851_20240403T171803_T14QKK',\n",
              " 'properties': {'SPACECRAFT_NAME': 'Sentinel-2A',\n",
              "  'SATURATED_DEFECTIVE_PIXEL_PERCENTAGE': 0,\n",
              "  'BOA_ADD_OFFSET_B12': -1000,\n",
              "  'CLOUD_SHADOW_PERCENTAGE': 0.044147,\n",
              "  'system:footprint': {'type': 'LinearRing',\n",
              "   'coordinates': [[-100.85062580299133, 22.59645774543664],\n",
              "    [-100.85064182248995, 22.59646033637302],\n",
              "    [-101.9177178105119, 22.580612913667174],\n",
              "    [-101.91776194295657, 22.58057559374187],\n",
              "    [-101.91781077591959, 22.580543561819606],\n",
              "    [-101.91781347435492, 22.580528768171742],\n",
              "    [-101.91263112461434, 22.3329038940983],\n",
              "    [-101.907521181235, 22.085277783397405],\n",
              "    [-101.9024830247189, 21.837643204229746],\n",
              "    [-101.89751612284819, 21.59000001664208],\n",
              "    [-101.89747591512644, 21.58995921503022],\n",
              "    [-101.89744153840667, 21.58991405290343],\n",
              "    [-101.89742561198078, 21.58991152944588],\n",
              "    [-100.83776078021975, 21.604994099882404],\n",
              "    [-100.83771668953344, 21.605031110288266],\n",
              "    [-100.83766786256689, 21.60506277422663],\n",
              "    [-100.8376651069011, 21.605077590851643],\n",
              "    [-100.84401712937051, 22.100744177799974],\n",
              "    [-100.85055138987195, 22.596371338935555],\n",
              "    [-100.85059152471844, 22.596412413229054],\n",
              "    [-100.85062580299133, 22.59645774543664]]},\n",
              "  'SENSOR_QUALITY': 'PASSED',\n",
              "  'GENERATION_TIME': 1712190403000,\n",
              "  'CLOUDY_PIXEL_OVER_LAND_PERCENTAGE': 0.005919,\n",
              "  'CLOUD_COVERAGE_ASSESSMENT': 0.005912,\n",
              "  'THIN_CIRRUS_PERCENTAGE': 0,\n",
              "  'GRANULE_MEAN_WV': 0.47386,\n",
              "  'BOA_ADD_OFFSET_B1': -1000,\n",
              "  'BOA_ADD_OFFSET_B2': -1000,\n",
              "  'DATASTRIP_ID': 'S2A_OPER_MSI_L2A_DS_2APS_20240404T002643_S20240403T171803_N05.10',\n",
              "  'BOA_ADD_OFFSET_B5': -1000,\n",
              "  'BOA_ADD_OFFSET_B6': -1000,\n",
              "  'BOA_ADD_OFFSET_B3': -1000,\n",
              "  'BOA_ADD_OFFSET_B4': -1000,\n",
              "  'BOA_ADD_OFFSET_B9': -1000,\n",
              "  'BOA_ADD_OFFSET_B7': -1000,\n",
              "  'BOA_ADD_OFFSET_B8': -1000,\n",
              "  'GRANULE_ID': 'L2A_T14QKK_A045869_20240403T171803',\n",
              "  'MEAN_INCIDENCE_AZIMUTH_ANGLE_B8': 108.844131842875,\n",
              "  'DATATAKE_TYPE': 'INS-NOBS',\n",
              "  'MEAN_INCIDENCE_AZIMUTH_ANGLE_B9': 104.918608856164,\n",
              "  'MEAN_INCIDENCE_AZIMUTH_ANGLE_B6': 105.872102475915,\n",
              "  'MEAN_INCIDENCE_AZIMUTH_ANGLE_B7': 105.570042665631,\n",
              "  'MEAN_INCIDENCE_AZIMUTH_ANGLE_B4': 106.759515596862,\n",
              "  'NOT_VEGETATED_PERCENTAGE': 98.45463,\n",
              "  'MEAN_INCIDENCE_AZIMUTH_ANGLE_B5': 106.281570393285,\n",
              "  'RADIOMETRIC_QUALITY': 'PASSED',\n",
              "  'MEAN_INCIDENCE_AZIMUTH_ANGLE_B2': 109.969628641358,\n",
              "  'MEAN_INCIDENCE_AZIMUTH_ANGLE_B3': 107.979390913738,\n",
              "  'MEAN_INCIDENCE_AZIMUTH_ANGLE_B1': 105.120040196611,\n",
              "  'HIGH_PROBA_CLOUDS_PERCENTAGE': 0.000803,\n",
              "  'UNCLASSIFIED_PERCENTAGE': 0.013285,\n",
              "  'OZONE_SOURCE': 'AUX_ECMWFT',\n",
              "  'GRANULE_MEAN_AOT': 0.064265,\n",
              "  'BOA_ADD_OFFSET_B8A': -1000,\n",
              "  'SNOW_ICE_PERCENTAGE': 0,\n",
              "  'BOA_ADD_OFFSET_B11': -1000,\n",
              "  'BOA_ADD_OFFSET_B10': -1000,\n",
              "  'GEOMETRIC_QUALITY': 'PASSED',\n",
              "  'system:asset_size': 1788835688,\n",
              "  'system:index': '20240403T170851_20240403T171803_T14QKK',\n",
              "  'DATATAKE_IDENTIFIER': 'GS2A_20240403T170851_045869_N05.10',\n",
              "  'AOT_RETRIEVAL_ACCURACY': 0,\n",
              "  'AOT_RETRIEVAL_METHOD': 'CAMS',\n",
              "  'MEAN_INCIDENCE_AZIMUTH_ANGLE_B8A': 105.289958031586,\n",
              "  'MEAN_SOLAR_AZIMUTH_ANGLE': 127.046935949753,\n",
              "  'VEGETATION_PERCENTAGE': 1.436853,\n",
              "  'SOLAR_IRRADIANCE_B12': 85.25,\n",
              "  'SOLAR_IRRADIANCE_B10': 367.15,\n",
              "  'SOLAR_IRRADIANCE_B11': 245.59,\n",
              "  'SOLAR_IRRADIANCE_B8A': 955.32,\n",
              "  'FORMAT_CORRECTNESS': 'PASSED',\n",
              "  'system:time_end': 1712165265565,\n",
              "  'WATER_VAPOUR_RETRIEVAL_ACCURACY': 0,\n",
              "  'OZONE_VALUE': 262.764931,\n",
              "  'system:time_start': 1712165265565,\n",
              "  'PROCESSING_BASELINE': '05.10',\n",
              "  'SENSING_ORBIT_NUMBER': 112,\n",
              "  'NODATA_PIXEL_PERCENTAGE': 0,\n",
              "  'SENSING_ORBIT_DIRECTION': 'DESCENDING',\n",
              "  'GENERAL_QUALITY': 'PASSED',\n",
              "  'REFLECTANCE_CONVERSION_CORRECTION': 1.00254603175627,\n",
              "  'MEDIUM_PROBA_CLOUDS_PERCENTAGE': 0.005109,\n",
              "  'MEAN_INCIDENCE_ZENITH_ANGLE_B1': 4.39360927106418,\n",
              "  'MEAN_INCIDENCE_ZENITH_ANGLE_B5': 4.12591279879285,\n",
              "  'MEAN_INCIDENCE_ZENITH_ANGLE_B4': 4.06648659089961,\n",
              "  'MEAN_INCIDENCE_ZENITH_ANGLE_B3': 3.96846447303151,\n",
              "  'MEAN_INCIDENCE_ZENITH_ANGLE_B2': 3.88124865793879,\n",
              "  'MEAN_INCIDENCE_ZENITH_ANGLE_B9': 4.47165958707099,\n",
              "  'MEAN_INCIDENCE_ZENITH_ANGLE_B8': 3.92202281416652,\n",
              "  'MEAN_INCIDENCE_ZENITH_ANGLE_B7': 4.24951250009274,\n",
              "  'DARK_FEATURES_PERCENTAGE': 0.007223,\n",
              "  'MEAN_INCIDENCE_ZENITH_ANGLE_B6': 4.18912391068533,\n",
              "  'MEAN_SOLAR_ZENITH_ANGLE': 25.4940887868495,\n",
              "  'MEAN_INCIDENCE_ZENITH_ANGLE_B8A': 4.31959815726315,\n",
              "  'RADIATIVE_TRANSFER_ACCURACY': 0,\n",
              "  'MGRS_TILE': '14QKK',\n",
              "  'CLOUDY_PIXEL_PERCENTAGE': 0.005912,\n",
              "  'PRODUCT_ID': 'S2A_MSIL2A_20240403T170851_N0510_R112_T14QKK_20240404T002643',\n",
              "  'MEAN_INCIDENCE_ZENITH_ANGLE_B10': 4.03046734322327,\n",
              "  'SOLAR_IRRADIANCE_B9': 812.92,\n",
              "  'DEGRADED_MSI_DATA_PERCENTAGE': 0.0003,\n",
              "  'MEAN_INCIDENCE_ZENITH_ANGLE_B11': 4.17348227112178,\n",
              "  'L2A_QUALITY': 'PASSED',\n",
              "  'MEAN_INCIDENCE_ZENITH_ANGLE_B12': 4.33679443117708,\n",
              "  'SOLAR_IRRADIANCE_B6': 1287.61,\n",
              "  'MEAN_INCIDENCE_AZIMUTH_ANGLE_B10': 107.070403842772,\n",
              "  'SOLAR_IRRADIANCE_B5': 1424.64,\n",
              "  'MEAN_INCIDENCE_AZIMUTH_ANGLE_B11': 105.922652046506,\n",
              "  'SOLAR_IRRADIANCE_B8': 1041.63,\n",
              "  'MEAN_INCIDENCE_AZIMUTH_ANGLE_B12': 105.204453897048,\n",
              "  'SOLAR_IRRADIANCE_B7': 1162.08,\n",
              "  'SOLAR_IRRADIANCE_B2': 1959.66,\n",
              "  'SOLAR_IRRADIANCE_B1': 1884.69,\n",
              "  'SOLAR_IRRADIANCE_B4': 1512.06,\n",
              "  'SOLAR_IRRADIANCE_B3': 1823.24,\n",
              "  'WATER_PERCENTAGE': 0.037946}}"
            ]
          },
          "metadata": {},
          "execution_count": 20
        }
      ]
    },
    {
      "cell_type": "code",
      "source": [
        "#¿Cual es el porcentaje de nubes que cubren a la primera imagen?\n",
        "sentinel.first().get('CLOUDY_PIXEL_PERCENTAGE').getInfo()"
      ],
      "metadata": {
        "colab": {
          "base_uri": "https://localhost:8080/"
        },
        "id": "oGCKzNK3JU-n",
        "outputId": "b17fcd63-d009-429c-ae51-113328b4f5bb"
      },
      "execution_count": 21,
      "outputs": [
        {
          "output_type": "execute_result",
          "data": {
            "text/plain": [
              "0.005912"
            ]
          },
          "metadata": {},
          "execution_count": 21
        }
      ]
    },
    {
      "cell_type": "code",
      "source": [
        "#¿Cuando fue tomada esta imagen?\n",
        "datetime.datetime.fromtimestamp(sentinel.first().get('system:time_start').getInfo()/1000).strftime('%Y-%m-%d %H:%M:%S')\n"
      ],
      "metadata": {
        "colab": {
          "base_uri": "https://localhost:8080/",
          "height": 35
        },
        "id": "_Pt_SDyGJX0W",
        "outputId": "3ec71af7-9700-4cb8-bed1-2b86914fde61"
      },
      "execution_count": 22,
      "outputs": [
        {
          "output_type": "execute_result",
          "data": {
            "text/plain": [
              "'2024-04-03 17:27:45'"
            ],
            "application/vnd.google.colaboratory.intrinsic+json": {
              "type": "string"
            }
          },
          "metadata": {},
          "execution_count": 22
        }
      ]
    },
    {
      "cell_type": "code",
      "source": [
        "#'Cuántas bandas tenemos?\n",
        "sentinel.first().bandNames().getInfo()"
      ],
      "metadata": {
        "colab": {
          "base_uri": "https://localhost:8080/"
        },
        "id": "DOB261myJcqU",
        "outputId": "a4cef335-1c71-4a7a-aba3-efca2ba44e6b"
      },
      "execution_count": 23,
      "outputs": [
        {
          "output_type": "execute_result",
          "data": {
            "text/plain": [
              "['B1',\n",
              " 'B2',\n",
              " 'B3',\n",
              " 'B4',\n",
              " 'B5',\n",
              " 'B6',\n",
              " 'B7',\n",
              " 'B8',\n",
              " 'B8A',\n",
              " 'B9',\n",
              " 'B11',\n",
              " 'B12',\n",
              " 'AOT',\n",
              " 'WVP',\n",
              " 'SCL',\n",
              " 'TCI_R',\n",
              " 'TCI_G',\n",
              " 'TCI_B',\n",
              " 'MSK_CLDPRB',\n",
              " 'MSK_SNWPRB',\n",
              " 'MSK_CLASSI_OPAQUE',\n",
              " 'MSK_CLASSI_CIRRUS',\n",
              " 'MSK_CLASSI_SNOW_ICE']"
            ]
          },
          "metadata": {},
          "execution_count": 23
        }
      ]
    },
    {
      "cell_type": "code",
      "source": [
        "#Guarda todas las imagenes en una lista\n",
        "sentinel_list = sentinel.toList(sentinel.size());"
      ],
      "metadata": {
        "id": "HnDAA0O9Ji1r"
      },
      "execution_count": 24,
      "outputs": []
    },
    {
      "cell_type": "code",
      "source": [
        "#Configura algunos parametros para las imagenes\n",
        "parameters = {\n",
        "                'min': 0,\n",
        "                'max': 3000,\n",
        "                'dimensions': 800, # square size in pixels\n",
        "                'bands': ['B4', 'B3', 'B2'] # bands to display (r,g,b)\n",
        "             }"
      ],
      "metadata": {
        "id": "rMZDemibJzzd"
      },
      "execution_count": 25,
      "outputs": []
    },
    {
      "cell_type": "code",
      "source": [
        "import datetime\n",
        "\n",
        "#Crea un contenedor de datos vacio\n",
        "data = []\n",
        "\n",
        "#Ciclo que recorre cada una de las imagenes y las despliega\n",
        "for i in range(sentinel.size().getInfo()):\n",
        "\n",
        "    #Fecha de captura de las imagenes\n",
        "    timestamp_ms = ee.Image(sentinel_list.get(i)).get('system:time_start').getInfo()\n",
        "    timestamp_s = timestamp_ms / 1000\n",
        "    date_gregorian = datetime.datetime.fromtimestamp(timestamp_s).strftime('%Y-%m-%d %H:%M:%S')\n",
        "\n",
        "\n",
        "    #Porcentaje de nubosidad\n",
        "    cloud = ee.Image(sentinel_list.get(i)).get('CLOUDY_PIXEL_PERCENTAGE').getInfo()\n",
        "\n",
        "    #Muestra la información de la imagen\n",
        "    print('Image #',i,date_gregorian,'Cloud cover:',cloud)\n",
        "\n",
        "    #Despliega la imagen\n",
        "    display(Image(url = ee.Image(sentinel_list.get(i)).getThumbUrl(parameters)))\n",
        "\n",
        "    #Convierte esta información (i, fecha, nubosidad) en una lista\n",
        "    this_data = [i,date_gregorian,cloud]\n",
        "\n",
        "    #Va agregando información a la lista\n",
        "    data.append(this_data)\n",
        "\n",
        "\n",
        "#Crea un data frame\n",
        "df = pd.DataFrame(data, columns = ['Image #', 'Date', 'Cloud Cover'])"
      ],
      "metadata": {
        "colab": {
          "base_uri": "https://localhost:8080/",
          "height": 1000
        },
        "id": "V3A7iAltJ60s",
        "outputId": "2d823edd-ccd2-41d2-ef84-8fec42d6548f"
      },
      "execution_count": 26,
      "outputs": [
        {
          "output_type": "stream",
          "name": "stdout",
          "text": [
            "Image # 0 2024-04-03 17:27:45 Cloud cover: 0.005912\n"
          ]
        },
        {
          "output_type": "display_data",
          "data": {
            "text/html": [
              "<img src=\"https://earthengine.googleapis.com/v1/projects/ee-jubaal91/thumbnails/733e6fa2a571208bcdd535de59722b1e-85dbb7b2d8124bd0c66b0c4f958fe240:getPixels\"/>"
            ],
            "text/plain": [
              "<IPython.core.display.Image object>"
            ]
          },
          "metadata": {}
        },
        {
          "output_type": "stream",
          "name": "stdout",
          "text": [
            "Image # 1 2024-04-08 17:27:47 Cloud cover: 0\n"
          ]
        },
        {
          "output_type": "display_data",
          "data": {
            "text/html": [
              "<img src=\"https://earthengine.googleapis.com/v1/projects/ee-jubaal91/thumbnails/cbdeb27aecd33f5cf8f8c8104317f0f2-2ee9cf316cb89488dc43c8931e938e62:getPixels\"/>"
            ],
            "text/plain": [
              "<IPython.core.display.Image object>"
            ]
          },
          "metadata": {}
        },
        {
          "output_type": "stream",
          "name": "stdout",
          "text": [
            "Image # 2 2024-04-13 17:27:50 Cloud cover: 58.581382\n"
          ]
        },
        {
          "output_type": "display_data",
          "data": {
            "text/html": [
              "<img src=\"https://earthengine.googleapis.com/v1/projects/ee-jubaal91/thumbnails/0a8b83fbc6495175ecaadef3838f387f-0843a516d33afa26e8fee541c66b066d:getPixels\"/>"
            ],
            "text/plain": [
              "<IPython.core.display.Image object>"
            ]
          },
          "metadata": {}
        },
        {
          "output_type": "stream",
          "name": "stdout",
          "text": [
            "Image # 3 2024-04-18 17:27:49 Cloud cover: 2.205424\n"
          ]
        },
        {
          "output_type": "display_data",
          "data": {
            "text/html": [
              "<img src=\"https://earthengine.googleapis.com/v1/projects/ee-jubaal91/thumbnails/dadc5f306bf0b88804179c667deb0336-f3e27bce516f32b67a502c52f5e02c5e:getPixels\"/>"
            ],
            "text/plain": [
              "<IPython.core.display.Image object>"
            ]
          },
          "metadata": {}
        },
        {
          "output_type": "stream",
          "name": "stdout",
          "text": [
            "Image # 4 2024-04-23 17:27:50 Cloud cover: 0.001437\n"
          ]
        },
        {
          "output_type": "display_data",
          "data": {
            "text/html": [
              "<img src=\"https://earthengine.googleapis.com/v1/projects/ee-jubaal91/thumbnails/07c51240eb81fe2253009bb2a8562bf4-c71b81a8bc17c517a2ac4a1956c4280f:getPixels\"/>"
            ],
            "text/plain": [
              "<IPython.core.display.Image object>"
            ]
          },
          "metadata": {}
        },
        {
          "output_type": "stream",
          "name": "stdout",
          "text": [
            "Image # 5 2024-04-28 17:27:43 Cloud cover: 0.587107\n"
          ]
        },
        {
          "output_type": "display_data",
          "data": {
            "text/html": [
              "<img src=\"https://earthengine.googleapis.com/v1/projects/ee-jubaal91/thumbnails/043f53181427665ca3bc4a8af33a3045-e2d92a40933b6ca23ef96c11537cdee1:getPixels\"/>"
            ],
            "text/plain": [
              "<IPython.core.display.Image object>"
            ]
          },
          "metadata": {}
        },
        {
          "output_type": "stream",
          "name": "stdout",
          "text": [
            "Image # 6 2024-04-28 17:27:50 Cloud cover: 0.449671\n"
          ]
        },
        {
          "output_type": "display_data",
          "data": {
            "text/html": [
              "<img src=\"https://earthengine.googleapis.com/v1/projects/ee-jubaal91/thumbnails/6330947d8e8a7feea05f9ac5bfc35c02-a2062fe323c28cf18224229d421f2391:getPixels\"/>"
            ],
            "text/plain": [
              "<IPython.core.display.Image object>"
            ]
          },
          "metadata": {}
        }
      ]
    },
    {
      "cell_type": "code",
      "source": [
        "#Datos del data frame\n",
        "df"
      ],
      "metadata": {
        "colab": {
          "base_uri": "https://localhost:8080/",
          "height": 269
        },
        "id": "Fcz-NRJIKAre",
        "outputId": "c8a1a8a6-43a5-4a14-89db-056e9424bb3d"
      },
      "execution_count": 27,
      "outputs": [
        {
          "output_type": "execute_result",
          "data": {
            "text/plain": [
              "   Image #                 Date  Cloud Cover\n",
              "0        0  2024-04-03 17:27:45     0.005912\n",
              "1        1  2024-04-08 17:27:47     0.000000\n",
              "2        2  2024-04-13 17:27:50    58.581382\n",
              "3        3  2024-04-18 17:27:49     2.205424\n",
              "4        4  2024-04-23 17:27:50     0.001437\n",
              "5        5  2024-04-28 17:27:43     0.587107\n",
              "6        6  2024-04-28 17:27:50     0.449671"
            ],
            "text/html": [
              "\n",
              "  <div id=\"df-cb927f9a-b072-4f14-b08d-4f9fede2298a\" class=\"colab-df-container\">\n",
              "    <div>\n",
              "<style scoped>\n",
              "    .dataframe tbody tr th:only-of-type {\n",
              "        vertical-align: middle;\n",
              "    }\n",
              "\n",
              "    .dataframe tbody tr th {\n",
              "        vertical-align: top;\n",
              "    }\n",
              "\n",
              "    .dataframe thead th {\n",
              "        text-align: right;\n",
              "    }\n",
              "</style>\n",
              "<table border=\"1\" class=\"dataframe\">\n",
              "  <thead>\n",
              "    <tr style=\"text-align: right;\">\n",
              "      <th></th>\n",
              "      <th>Image #</th>\n",
              "      <th>Date</th>\n",
              "      <th>Cloud Cover</th>\n",
              "    </tr>\n",
              "  </thead>\n",
              "  <tbody>\n",
              "    <tr>\n",
              "      <th>0</th>\n",
              "      <td>0</td>\n",
              "      <td>2024-04-03 17:27:45</td>\n",
              "      <td>0.005912</td>\n",
              "    </tr>\n",
              "    <tr>\n",
              "      <th>1</th>\n",
              "      <td>1</td>\n",
              "      <td>2024-04-08 17:27:47</td>\n",
              "      <td>0.000000</td>\n",
              "    </tr>\n",
              "    <tr>\n",
              "      <th>2</th>\n",
              "      <td>2</td>\n",
              "      <td>2024-04-13 17:27:50</td>\n",
              "      <td>58.581382</td>\n",
              "    </tr>\n",
              "    <tr>\n",
              "      <th>3</th>\n",
              "      <td>3</td>\n",
              "      <td>2024-04-18 17:27:49</td>\n",
              "      <td>2.205424</td>\n",
              "    </tr>\n",
              "    <tr>\n",
              "      <th>4</th>\n",
              "      <td>4</td>\n",
              "      <td>2024-04-23 17:27:50</td>\n",
              "      <td>0.001437</td>\n",
              "    </tr>\n",
              "    <tr>\n",
              "      <th>5</th>\n",
              "      <td>5</td>\n",
              "      <td>2024-04-28 17:27:43</td>\n",
              "      <td>0.587107</td>\n",
              "    </tr>\n",
              "    <tr>\n",
              "      <th>6</th>\n",
              "      <td>6</td>\n",
              "      <td>2024-04-28 17:27:50</td>\n",
              "      <td>0.449671</td>\n",
              "    </tr>\n",
              "  </tbody>\n",
              "</table>\n",
              "</div>\n",
              "    <div class=\"colab-df-buttons\">\n",
              "\n",
              "  <div class=\"colab-df-container\">\n",
              "    <button class=\"colab-df-convert\" onclick=\"convertToInteractive('df-cb927f9a-b072-4f14-b08d-4f9fede2298a')\"\n",
              "            title=\"Convert this dataframe to an interactive table.\"\n",
              "            style=\"display:none;\">\n",
              "\n",
              "  <svg xmlns=\"http://www.w3.org/2000/svg\" height=\"24px\" viewBox=\"0 -960 960 960\">\n",
              "    <path d=\"M120-120v-720h720v720H120Zm60-500h600v-160H180v160Zm220 220h160v-160H400v160Zm0 220h160v-160H400v160ZM180-400h160v-160H180v160Zm440 0h160v-160H620v160ZM180-180h160v-160H180v160Zm440 0h160v-160H620v160Z\"/>\n",
              "  </svg>\n",
              "    </button>\n",
              "\n",
              "  <style>\n",
              "    .colab-df-container {\n",
              "      display:flex;\n",
              "      gap: 12px;\n",
              "    }\n",
              "\n",
              "    .colab-df-convert {\n",
              "      background-color: #E8F0FE;\n",
              "      border: none;\n",
              "      border-radius: 50%;\n",
              "      cursor: pointer;\n",
              "      display: none;\n",
              "      fill: #1967D2;\n",
              "      height: 32px;\n",
              "      padding: 0 0 0 0;\n",
              "      width: 32px;\n",
              "    }\n",
              "\n",
              "    .colab-df-convert:hover {\n",
              "      background-color: #E2EBFA;\n",
              "      box-shadow: 0px 1px 2px rgba(60, 64, 67, 0.3), 0px 1px 3px 1px rgba(60, 64, 67, 0.15);\n",
              "      fill: #174EA6;\n",
              "    }\n",
              "\n",
              "    .colab-df-buttons div {\n",
              "      margin-bottom: 4px;\n",
              "    }\n",
              "\n",
              "    [theme=dark] .colab-df-convert {\n",
              "      background-color: #3B4455;\n",
              "      fill: #D2E3FC;\n",
              "    }\n",
              "\n",
              "    [theme=dark] .colab-df-convert:hover {\n",
              "      background-color: #434B5C;\n",
              "      box-shadow: 0px 1px 3px 1px rgba(0, 0, 0, 0.15);\n",
              "      filter: drop-shadow(0px 1px 2px rgba(0, 0, 0, 0.3));\n",
              "      fill: #FFFFFF;\n",
              "    }\n",
              "  </style>\n",
              "\n",
              "    <script>\n",
              "      const buttonEl =\n",
              "        document.querySelector('#df-cb927f9a-b072-4f14-b08d-4f9fede2298a button.colab-df-convert');\n",
              "      buttonEl.style.display =\n",
              "        google.colab.kernel.accessAllowed ? 'block' : 'none';\n",
              "\n",
              "      async function convertToInteractive(key) {\n",
              "        const element = document.querySelector('#df-cb927f9a-b072-4f14-b08d-4f9fede2298a');\n",
              "        const dataTable =\n",
              "          await google.colab.kernel.invokeFunction('convertToInteractive',\n",
              "                                                    [key], {});\n",
              "        if (!dataTable) return;\n",
              "\n",
              "        const docLinkHtml = 'Like what you see? Visit the ' +\n",
              "          '<a target=\"_blank\" href=https://colab.research.google.com/notebooks/data_table.ipynb>data table notebook</a>'\n",
              "          + ' to learn more about interactive tables.';\n",
              "        element.innerHTML = '';\n",
              "        dataTable['output_type'] = 'display_data';\n",
              "        await google.colab.output.renderOutput(dataTable, element);\n",
              "        const docLink = document.createElement('div');\n",
              "        docLink.innerHTML = docLinkHtml;\n",
              "        element.appendChild(docLink);\n",
              "      }\n",
              "    </script>\n",
              "  </div>\n",
              "\n",
              "\n",
              "    <div id=\"df-b5d5c9b1-b8ca-4c46-86d1-b8e56ef68215\">\n",
              "      <button class=\"colab-df-quickchart\" onclick=\"quickchart('df-b5d5c9b1-b8ca-4c46-86d1-b8e56ef68215')\"\n",
              "                title=\"Suggest charts\"\n",
              "                style=\"display:none;\">\n",
              "\n",
              "<svg xmlns=\"http://www.w3.org/2000/svg\" height=\"24px\"viewBox=\"0 0 24 24\"\n",
              "     width=\"24px\">\n",
              "    <g>\n",
              "        <path d=\"M19 3H5c-1.1 0-2 .9-2 2v14c0 1.1.9 2 2 2h14c1.1 0 2-.9 2-2V5c0-1.1-.9-2-2-2zM9 17H7v-7h2v7zm4 0h-2V7h2v10zm4 0h-2v-4h2v4z\"/>\n",
              "    </g>\n",
              "</svg>\n",
              "      </button>\n",
              "\n",
              "<style>\n",
              "  .colab-df-quickchart {\n",
              "      --bg-color: #E8F0FE;\n",
              "      --fill-color: #1967D2;\n",
              "      --hover-bg-color: #E2EBFA;\n",
              "      --hover-fill-color: #174EA6;\n",
              "      --disabled-fill-color: #AAA;\n",
              "      --disabled-bg-color: #DDD;\n",
              "  }\n",
              "\n",
              "  [theme=dark] .colab-df-quickchart {\n",
              "      --bg-color: #3B4455;\n",
              "      --fill-color: #D2E3FC;\n",
              "      --hover-bg-color: #434B5C;\n",
              "      --hover-fill-color: #FFFFFF;\n",
              "      --disabled-bg-color: #3B4455;\n",
              "      --disabled-fill-color: #666;\n",
              "  }\n",
              "\n",
              "  .colab-df-quickchart {\n",
              "    background-color: var(--bg-color);\n",
              "    border: none;\n",
              "    border-radius: 50%;\n",
              "    cursor: pointer;\n",
              "    display: none;\n",
              "    fill: var(--fill-color);\n",
              "    height: 32px;\n",
              "    padding: 0;\n",
              "    width: 32px;\n",
              "  }\n",
              "\n",
              "  .colab-df-quickchart:hover {\n",
              "    background-color: var(--hover-bg-color);\n",
              "    box-shadow: 0 1px 2px rgba(60, 64, 67, 0.3), 0 1px 3px 1px rgba(60, 64, 67, 0.15);\n",
              "    fill: var(--button-hover-fill-color);\n",
              "  }\n",
              "\n",
              "  .colab-df-quickchart-complete:disabled,\n",
              "  .colab-df-quickchart-complete:disabled:hover {\n",
              "    background-color: var(--disabled-bg-color);\n",
              "    fill: var(--disabled-fill-color);\n",
              "    box-shadow: none;\n",
              "  }\n",
              "\n",
              "  .colab-df-spinner {\n",
              "    border: 2px solid var(--fill-color);\n",
              "    border-color: transparent;\n",
              "    border-bottom-color: var(--fill-color);\n",
              "    animation:\n",
              "      spin 1s steps(1) infinite;\n",
              "  }\n",
              "\n",
              "  @keyframes spin {\n",
              "    0% {\n",
              "      border-color: transparent;\n",
              "      border-bottom-color: var(--fill-color);\n",
              "      border-left-color: var(--fill-color);\n",
              "    }\n",
              "    20% {\n",
              "      border-color: transparent;\n",
              "      border-left-color: var(--fill-color);\n",
              "      border-top-color: var(--fill-color);\n",
              "    }\n",
              "    30% {\n",
              "      border-color: transparent;\n",
              "      border-left-color: var(--fill-color);\n",
              "      border-top-color: var(--fill-color);\n",
              "      border-right-color: var(--fill-color);\n",
              "    }\n",
              "    40% {\n",
              "      border-color: transparent;\n",
              "      border-right-color: var(--fill-color);\n",
              "      border-top-color: var(--fill-color);\n",
              "    }\n",
              "    60% {\n",
              "      border-color: transparent;\n",
              "      border-right-color: var(--fill-color);\n",
              "    }\n",
              "    80% {\n",
              "      border-color: transparent;\n",
              "      border-right-color: var(--fill-color);\n",
              "      border-bottom-color: var(--fill-color);\n",
              "    }\n",
              "    90% {\n",
              "      border-color: transparent;\n",
              "      border-bottom-color: var(--fill-color);\n",
              "    }\n",
              "  }\n",
              "</style>\n",
              "\n",
              "      <script>\n",
              "        async function quickchart(key) {\n",
              "          const quickchartButtonEl =\n",
              "            document.querySelector('#' + key + ' button');\n",
              "          quickchartButtonEl.disabled = true;  // To prevent multiple clicks.\n",
              "          quickchartButtonEl.classList.add('colab-df-spinner');\n",
              "          try {\n",
              "            const charts = await google.colab.kernel.invokeFunction(\n",
              "                'suggestCharts', [key], {});\n",
              "          } catch (error) {\n",
              "            console.error('Error during call to suggestCharts:', error);\n",
              "          }\n",
              "          quickchartButtonEl.classList.remove('colab-df-spinner');\n",
              "          quickchartButtonEl.classList.add('colab-df-quickchart-complete');\n",
              "        }\n",
              "        (() => {\n",
              "          let quickchartButtonEl =\n",
              "            document.querySelector('#df-b5d5c9b1-b8ca-4c46-86d1-b8e56ef68215 button');\n",
              "          quickchartButtonEl.style.display =\n",
              "            google.colab.kernel.accessAllowed ? 'block' : 'none';\n",
              "        })();\n",
              "      </script>\n",
              "    </div>\n",
              "\n",
              "  <div id=\"id_be8fdeff-9acd-4e8b-8597-01f8cc173ffc\">\n",
              "    <style>\n",
              "      .colab-df-generate {\n",
              "        background-color: #E8F0FE;\n",
              "        border: none;\n",
              "        border-radius: 50%;\n",
              "        cursor: pointer;\n",
              "        display: none;\n",
              "        fill: #1967D2;\n",
              "        height: 32px;\n",
              "        padding: 0 0 0 0;\n",
              "        width: 32px;\n",
              "      }\n",
              "\n",
              "      .colab-df-generate:hover {\n",
              "        background-color: #E2EBFA;\n",
              "        box-shadow: 0px 1px 2px rgba(60, 64, 67, 0.3), 0px 1px 3px 1px rgba(60, 64, 67, 0.15);\n",
              "        fill: #174EA6;\n",
              "      }\n",
              "\n",
              "      [theme=dark] .colab-df-generate {\n",
              "        background-color: #3B4455;\n",
              "        fill: #D2E3FC;\n",
              "      }\n",
              "\n",
              "      [theme=dark] .colab-df-generate:hover {\n",
              "        background-color: #434B5C;\n",
              "        box-shadow: 0px 1px 3px 1px rgba(0, 0, 0, 0.15);\n",
              "        filter: drop-shadow(0px 1px 2px rgba(0, 0, 0, 0.3));\n",
              "        fill: #FFFFFF;\n",
              "      }\n",
              "    </style>\n",
              "    <button class=\"colab-df-generate\" onclick=\"generateWithVariable('df')\"\n",
              "            title=\"Generate code using this dataframe.\"\n",
              "            style=\"display:none;\">\n",
              "\n",
              "  <svg xmlns=\"http://www.w3.org/2000/svg\" height=\"24px\"viewBox=\"0 0 24 24\"\n",
              "       width=\"24px\">\n",
              "    <path d=\"M7,19H8.4L18.45,9,17,7.55,7,17.6ZM5,21V16.75L18.45,3.32a2,2,0,0,1,2.83,0l1.4,1.43a1.91,1.91,0,0,1,.58,1.4,1.91,1.91,0,0,1-.58,1.4L9.25,21ZM18.45,9,17,7.55Zm-12,3A5.31,5.31,0,0,0,4.9,8.1,5.31,5.31,0,0,0,1,6.5,5.31,5.31,0,0,0,4.9,4.9,5.31,5.31,0,0,0,6.5,1,5.31,5.31,0,0,0,8.1,4.9,5.31,5.31,0,0,0,12,6.5,5.46,5.46,0,0,0,6.5,12Z\"/>\n",
              "  </svg>\n",
              "    </button>\n",
              "    <script>\n",
              "      (() => {\n",
              "      const buttonEl =\n",
              "        document.querySelector('#id_be8fdeff-9acd-4e8b-8597-01f8cc173ffc button.colab-df-generate');\n",
              "      buttonEl.style.display =\n",
              "        google.colab.kernel.accessAllowed ? 'block' : 'none';\n",
              "\n",
              "      buttonEl.onclick = () => {\n",
              "        google.colab.notebook.generateWithVariable('df');\n",
              "      }\n",
              "      })();\n",
              "    </script>\n",
              "  </div>\n",
              "\n",
              "    </div>\n",
              "  </div>\n"
            ],
            "application/vnd.google.colaboratory.intrinsic+json": {
              "type": "dataframe",
              "variable_name": "df",
              "summary": "{\n  \"name\": \"df\",\n  \"rows\": 7,\n  \"fields\": [\n    {\n      \"column\": \"Image #\",\n      \"properties\": {\n        \"dtype\": \"number\",\n        \"std\": 2,\n        \"min\": 0,\n        \"max\": 6,\n        \"num_unique_values\": 7,\n        \"samples\": [\n          0,\n          1,\n          5\n        ],\n        \"semantic_type\": \"\",\n        \"description\": \"\"\n      }\n    },\n    {\n      \"column\": \"Date\",\n      \"properties\": {\n        \"dtype\": \"object\",\n        \"num_unique_values\": 7,\n        \"samples\": [\n          \"2024-04-03 17:27:45\",\n          \"2024-04-08 17:27:47\",\n          \"2024-04-28 17:27:43\"\n        ],\n        \"semantic_type\": \"\",\n        \"description\": \"\"\n      }\n    },\n    {\n      \"column\": \"Cloud Cover\",\n      \"properties\": {\n        \"dtype\": \"number\",\n        \"std\": 21.950843219663422,\n        \"min\": 0.0,\n        \"max\": 58.581382,\n        \"num_unique_values\": 7,\n        \"samples\": [\n          0.005912,\n          0.0,\n          0.587107\n        ],\n        \"semantic_type\": \"\",\n        \"description\": \"\"\n      }\n    }\n  ]\n}"
            }
          },
          "metadata": {},
          "execution_count": 27
        }
      ]
    },
    {
      "cell_type": "code",
      "source": [
        "# create a list of images we want (before, during, after)\n",
        "sentinel_sequence = [0,1,4]"
      ],
      "metadata": {
        "id": "qNq_tUwWKExX"
      },
      "execution_count": 37,
      "outputs": []
    },
    {
      "cell_type": "code",
      "source": [
        "# Define a region of interest with a buffer zone of 20 km\n",
        "roi = poi.buffer(5000) # meters"
      ],
      "metadata": {
        "id": "S55hPjHuKSyg"
      },
      "execution_count": 34,
      "outputs": []
    },
    {
      "cell_type": "code",
      "source": [
        "parameters = {\n",
        "                'min': 0,\n",
        "                'max': 3000,\n",
        "                'dimensions': 800,\n",
        "                'bands': ['B4', 'B3', 'B2'],\n",
        "                'region':roi\n",
        "             }"
      ],
      "metadata": {
        "id": "XalnPR4dKX-3"
      },
      "execution_count": 35,
      "outputs": []
    },
    {
      "cell_type": "code",
      "source": [
        "for i in sentinel_sequence:\n",
        "\n",
        "    # when was this image taken?\n",
        "    date = ee.Image(sentinel_list.get(i)).get('DATE_ACQUIRED').getInfo()\n",
        "\n",
        "    # cloud cover\n",
        "    cloud = ee.Image(sentinel_list.get(i)).get('CLOUD_COVER').getInfo()\n",
        "\n",
        "    print('Image #',i,date,'Cloud cover:',cloud)\n",
        "\n",
        "    display(Image(url = ee.Image(sentinel_list.get(i)).getThumbUrl(parameters)))"
      ],
      "metadata": {
        "colab": {
          "base_uri": "https://localhost:8080/",
          "height": 1000
        },
        "id": "6PMDrH3EKb1X",
        "outputId": "b7824b9d-34e6-4e9e-eb21-6f3fac57cf10"
      },
      "execution_count": 38,
      "outputs": [
        {
          "output_type": "stream",
          "name": "stdout",
          "text": [
            "Image # 0 None Cloud cover: None\n"
          ]
        },
        {
          "output_type": "display_data",
          "data": {
            "text/html": [
              "<img src=\"https://earthengine.googleapis.com/v1/projects/ee-jubaal91/thumbnails/5e95d308ecb9add1fd7af4b18d501b60-6823e0096f70f9192b7436460d7d16d9:getPixels\"/>"
            ],
            "text/plain": [
              "<IPython.core.display.Image object>"
            ]
          },
          "metadata": {}
        },
        {
          "output_type": "stream",
          "name": "stdout",
          "text": [
            "Image # 1 None Cloud cover: None\n"
          ]
        },
        {
          "output_type": "display_data",
          "data": {
            "text/html": [
              "<img src=\"https://earthengine.googleapis.com/v1/projects/ee-jubaal91/thumbnails/94fb422a81f26a28f3a7e440bce6f776-55891409052dce06b75236e52cb12cc2:getPixels\"/>"
            ],
            "text/plain": [
              "<IPython.core.display.Image object>"
            ]
          },
          "metadata": {}
        },
        {
          "output_type": "stream",
          "name": "stdout",
          "text": [
            "Image # 4 None Cloud cover: None\n"
          ]
        },
        {
          "output_type": "display_data",
          "data": {
            "text/html": [
              "<img src=\"https://earthengine.googleapis.com/v1/projects/ee-jubaal91/thumbnails/46537dcc3ea8ca35a2d13b662693a7ae-da675d58c086649d5384facc7f545d22:getPixels\"/>"
            ],
            "text/plain": [
              "<IPython.core.display.Image object>"
            ]
          },
          "metadata": {}
        }
      ]
    },
    {
      "cell_type": "markdown",
      "source": [
        "###Indices de Vegetación"
      ],
      "metadata": {
        "id": "8CHeAub0c_4G"
      }
    },
    {
      "cell_type": "code",
      "source": [
        "# ndvi palette: red is low, green is high vegetation\n",
        "palette = ['red', 'yellow', 'green']\n",
        "\n",
        "ndvi_parameters = {'min': 0,\n",
        "                   'max': 0.4,\n",
        "                   'dimensions': 512,\n",
        "                   'palette': palette,\n",
        "                   'region': roi}"
      ],
      "metadata": {
        "id": "BwtB8AlWdG-c"
      },
      "execution_count": 44,
      "outputs": []
    },
    {
      "cell_type": "code",
      "source": [
        "for i in sentinel_sequence:\n",
        "\n",
        "    # when was this image taken?\n",
        "    date = ee.Image(sentinel_list.get(i)).get('DATE_ACQUIRED').getInfo()\n",
        "\n",
        "    # print some information\n",
        "    print('Image #',i,date)\n",
        "\n",
        "    # display the image\n",
        "    display(Image(url=ee.Image(sentinel_list.get(i)).normalizedDifference(['B8', 'B4']).getThumbUrl(ndvi_parameters)))"
      ],
      "metadata": {
        "colab": {
          "base_uri": "https://localhost:8080/",
          "height": 1000
        },
        "id": "F_Y-nvMxdKtK",
        "outputId": "7e57f5bf-f8ad-434d-dacf-203deeea4994"
      },
      "execution_count": 45,
      "outputs": [
        {
          "output_type": "stream",
          "name": "stdout",
          "text": [
            "Image # 0 None\n"
          ]
        },
        {
          "output_type": "display_data",
          "data": {
            "text/html": [
              "<img src=\"https://earthengine.googleapis.com/v1/projects/ee-jubaal91/thumbnails/3fa66d17f39a657509bebc0e6dc81001-0b451535ea85994913826400f4ea4c7c:getPixels\"/>"
            ],
            "text/plain": [
              "<IPython.core.display.Image object>"
            ]
          },
          "metadata": {}
        },
        {
          "output_type": "stream",
          "name": "stdout",
          "text": [
            "Image # 1 None\n"
          ]
        },
        {
          "output_type": "display_data",
          "data": {
            "text/html": [
              "<img src=\"https://earthengine.googleapis.com/v1/projects/ee-jubaal91/thumbnails/d8aec4fb6c403737507dd76d622d757a-c279e303125c823e5168466c61727ce9:getPixels\"/>"
            ],
            "text/plain": [
              "<IPython.core.display.Image object>"
            ]
          },
          "metadata": {}
        },
        {
          "output_type": "stream",
          "name": "stdout",
          "text": [
            "Image # 4 None\n"
          ]
        },
        {
          "output_type": "display_data",
          "data": {
            "text/html": [
              "<img src=\"https://earthengine.googleapis.com/v1/projects/ee-jubaal91/thumbnails/42c6e7bc0911cb650d0e37500bdfa300-34b7991ca63d0b04c826b96352dd2d1a:getPixels\"/>"
            ],
            "text/plain": [
              "<IPython.core.display.Image object>"
            ]
          },
          "metadata": {}
        }
      ]
    }
  ]
}