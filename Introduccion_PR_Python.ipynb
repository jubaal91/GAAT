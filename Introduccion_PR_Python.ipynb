{
  "nbformat": 4,
  "nbformat_minor": 0,
  "metadata": {
    "colab": {
      "provenance": [],
      "toc_visible": true,
      "authorship_tag": "ABX9TyNDx2CSlVvSKmu4o22WOs7H",
      "include_colab_link": true
    },
    "kernelspec": {
      "name": "python3",
      "display_name": "Python 3"
    },
    "language_info": {
      "name": "python"
    }
  },
  "cells": [
    {
      "cell_type": "markdown",
      "metadata": {
        "id": "view-in-github",
        "colab_type": "text"
      },
      "source": [
        "<a href=\"https://colab.research.google.com/github/jubaal91/GAAT/blob/main/Introduccion_PR_Python.ipynb\" target=\"_parent\"><img src=\"https://colab.research.google.com/assets/colab-badge.svg\" alt=\"Open In Colab\"/></a>"
      ]
    },
    {
      "cell_type": "code",
      "execution_count": null,
      "metadata": {
        "id": "GeLtJHFV_umb"
      },
      "outputs": [],
      "source": [
        "#Librerías comunes para trabajar con imagenes\n",
        "import pandas as pd\n",
        "import geopandas as gpd\n",
        "\n",
        "#Earth Engine: Nos permite visualizar y manipular imagenes de satélite sin necesidad de descargarlas\n",
        "import ee\n",
        "\n",
        "#Permite visualizar imagenes dentro del notebook\n",
        "from IPython.display import Image\n",
        "\n",
        "#Leer las fechas\n",
        "import datetime"
      ]
    },
    {
      "cell_type": "code",
      "source": [
        "#Autentificación para acceder a EE\n",
        "ee.Authenticate()\n",
        "\n",
        "# Inicialización, es necesario definir el proyecto donde se trabajará\n",
        "ee.Initialize(project='ee-jubaal91')"
      ],
      "metadata": {
        "colab": {
          "base_uri": "https://localhost:8080/"
        },
        "id": "cxP6H57GbAWO",
        "outputId": "c9d58750-44be-4204-f18b-1acf63dbf9ce"
      },
      "execution_count": null,
      "outputs": [
        {
          "output_type": "stream",
          "name": "stderr",
          "text": [
            "*** Earth Engine *** Share your feedback by taking our Annual Developer Satisfaction Survey: https://google.qualtrics.com/jfe/form/SV_7TDKVSyKvBdmMqW?ref=4i2o6\n"
          ]
        }
      ]
    },
    {
      "cell_type": "code",
      "source": [
        "#Coordenadas del Incendio\n",
        "\n",
        "lat = 21.998532\n",
        "lon = -101.040729\n",
        "\n",
        "#Punto de interés tomando las coordenadas\n",
        "poi = ee.Geometry.Point(lon,lat)\n",
        "\n",
        "#Fecha de inicio\n",
        "start_date = '2024-04-01'\n",
        "\n",
        "#Fecha final\n",
        "end_date = '2024-05-31'"
      ],
      "metadata": {
        "id": "KUFup74-bXXM"
      },
      "execution_count": null,
      "outputs": []
    },
    {
      "cell_type": "code",
      "source": [
        "#Obtener las imagenes del satélite Sentinel 2\n",
        "sentinel = ee.ImageCollection(\"COPERNICUS/S2_SR\")\\\n",
        "            .filterBounds(poi)\\\n",
        "            .filterDate(start_date,end_date)"
      ],
      "metadata": {
        "id": "hKVqxRYsI_Gu"
      },
      "execution_count": null,
      "outputs": []
    },
    {
      "cell_type": "code",
      "source": [
        "#¿Cuántas imagenes hay de la zona?\n",
        "print('Total number:', sentinel.size().getInfo())"
      ],
      "metadata": {
        "colab": {
          "base_uri": "https://localhost:8080/"
        },
        "id": "S2bFPT_yJCo4",
        "outputId": "71f7083f-804a-40e1-ecb5-f0a845308782"
      },
      "execution_count": null,
      "outputs": [
        {
          "output_type": "stream",
          "name": "stdout",
          "text": [
            "Total number: 26\n"
          ]
        }
      ]
    },
    {
      "cell_type": "code",
      "source": [
        "#Información acerca de la primera imagen\n",
        "#Es util para conocer el nombre de los campos, en caso de que sea necesario consultar información de ellos\n",
        "sentinel.first().getInfo()"
      ],
      "metadata": {
        "colab": {
          "base_uri": "https://localhost:8080/"
        },
        "id": "jE8aPJSHJGDS",
        "outputId": "065839ac-5ab1-46e1-b9a2-863a2ad1709b"
      },
      "execution_count": null,
      "outputs": [
        {
          "output_type": "execute_result",
          "data": {
            "text/plain": [
              "{'type': 'Image',\n",
              " 'bands': [{'id': 'B1',\n",
              "   'data_type': {'type': 'PixelType',\n",
              "    'precision': 'int',\n",
              "    'min': 0,\n",
              "    'max': 65535},\n",
              "   'dimensions': [1830, 1830],\n",
              "   'crs': 'EPSG:32613',\n",
              "   'crs_transform': [60, 0, 799980, 0, -60, 2500020]},\n",
              "  {'id': 'B2',\n",
              "   'data_type': {'type': 'PixelType',\n",
              "    'precision': 'int',\n",
              "    'min': 0,\n",
              "    'max': 65535},\n",
              "   'dimensions': [10980, 10980],\n",
              "   'crs': 'EPSG:32613',\n",
              "   'crs_transform': [10, 0, 799980, 0, -10, 2500020]},\n",
              "  {'id': 'B3',\n",
              "   'data_type': {'type': 'PixelType',\n",
              "    'precision': 'int',\n",
              "    'min': 0,\n",
              "    'max': 65535},\n",
              "   'dimensions': [10980, 10980],\n",
              "   'crs': 'EPSG:32613',\n",
              "   'crs_transform': [10, 0, 799980, 0, -10, 2500020]},\n",
              "  {'id': 'B4',\n",
              "   'data_type': {'type': 'PixelType',\n",
              "    'precision': 'int',\n",
              "    'min': 0,\n",
              "    'max': 65535},\n",
              "   'dimensions': [10980, 10980],\n",
              "   'crs': 'EPSG:32613',\n",
              "   'crs_transform': [10, 0, 799980, 0, -10, 2500020]},\n",
              "  {'id': 'B5',\n",
              "   'data_type': {'type': 'PixelType',\n",
              "    'precision': 'int',\n",
              "    'min': 0,\n",
              "    'max': 65535},\n",
              "   'dimensions': [5490, 5490],\n",
              "   'crs': 'EPSG:32613',\n",
              "   'crs_transform': [20, 0, 799980, 0, -20, 2500020]},\n",
              "  {'id': 'B6',\n",
              "   'data_type': {'type': 'PixelType',\n",
              "    'precision': 'int',\n",
              "    'min': 0,\n",
              "    'max': 65535},\n",
              "   'dimensions': [5490, 5490],\n",
              "   'crs': 'EPSG:32613',\n",
              "   'crs_transform': [20, 0, 799980, 0, -20, 2500020]},\n",
              "  {'id': 'B7',\n",
              "   'data_type': {'type': 'PixelType',\n",
              "    'precision': 'int',\n",
              "    'min': 0,\n",
              "    'max': 65535},\n",
              "   'dimensions': [5490, 5490],\n",
              "   'crs': 'EPSG:32613',\n",
              "   'crs_transform': [20, 0, 799980, 0, -20, 2500020]},\n",
              "  {'id': 'B8',\n",
              "   'data_type': {'type': 'PixelType',\n",
              "    'precision': 'int',\n",
              "    'min': 0,\n",
              "    'max': 65535},\n",
              "   'dimensions': [10980, 10980],\n",
              "   'crs': 'EPSG:32613',\n",
              "   'crs_transform': [10, 0, 799980, 0, -10, 2500020]},\n",
              "  {'id': 'B8A',\n",
              "   'data_type': {'type': 'PixelType',\n",
              "    'precision': 'int',\n",
              "    'min': 0,\n",
              "    'max': 65535},\n",
              "   'dimensions': [5490, 5490],\n",
              "   'crs': 'EPSG:32613',\n",
              "   'crs_transform': [20, 0, 799980, 0, -20, 2500020]},\n",
              "  {'id': 'B9',\n",
              "   'data_type': {'type': 'PixelType',\n",
              "    'precision': 'int',\n",
              "    'min': 0,\n",
              "    'max': 65535},\n",
              "   'dimensions': [1830, 1830],\n",
              "   'crs': 'EPSG:32613',\n",
              "   'crs_transform': [60, 0, 799980, 0, -60, 2500020]},\n",
              "  {'id': 'B11',\n",
              "   'data_type': {'type': 'PixelType',\n",
              "    'precision': 'int',\n",
              "    'min': 0,\n",
              "    'max': 65535},\n",
              "   'dimensions': [5490, 5490],\n",
              "   'crs': 'EPSG:32613',\n",
              "   'crs_transform': [20, 0, 799980, 0, -20, 2500020]},\n",
              "  {'id': 'B12',\n",
              "   'data_type': {'type': 'PixelType',\n",
              "    'precision': 'int',\n",
              "    'min': 0,\n",
              "    'max': 65535},\n",
              "   'dimensions': [5490, 5490],\n",
              "   'crs': 'EPSG:32613',\n",
              "   'crs_transform': [20, 0, 799980, 0, -20, 2500020]},\n",
              "  {'id': 'AOT',\n",
              "   'data_type': {'type': 'PixelType',\n",
              "    'precision': 'int',\n",
              "    'min': 0,\n",
              "    'max': 65535},\n",
              "   'dimensions': [10980, 10980],\n",
              "   'crs': 'EPSG:32613',\n",
              "   'crs_transform': [10, 0, 799980, 0, -10, 2500020]},\n",
              "  {'id': 'WVP',\n",
              "   'data_type': {'type': 'PixelType',\n",
              "    'precision': 'int',\n",
              "    'min': 0,\n",
              "    'max': 65535},\n",
              "   'dimensions': [10980, 10980],\n",
              "   'crs': 'EPSG:32613',\n",
              "   'crs_transform': [10, 0, 799980, 0, -10, 2500020]},\n",
              "  {'id': 'SCL',\n",
              "   'data_type': {'type': 'PixelType',\n",
              "    'precision': 'int',\n",
              "    'min': 0,\n",
              "    'max': 255},\n",
              "   'dimensions': [5490, 5490],\n",
              "   'crs': 'EPSG:32613',\n",
              "   'crs_transform': [20, 0, 799980, 0, -20, 2500020]},\n",
              "  {'id': 'TCI_R',\n",
              "   'data_type': {'type': 'PixelType',\n",
              "    'precision': 'int',\n",
              "    'min': 0,\n",
              "    'max': 255},\n",
              "   'dimensions': [10980, 10980],\n",
              "   'crs': 'EPSG:32613',\n",
              "   'crs_transform': [10, 0, 799980, 0, -10, 2500020]},\n",
              "  {'id': 'TCI_G',\n",
              "   'data_type': {'type': 'PixelType',\n",
              "    'precision': 'int',\n",
              "    'min': 0,\n",
              "    'max': 255},\n",
              "   'dimensions': [10980, 10980],\n",
              "   'crs': 'EPSG:32613',\n",
              "   'crs_transform': [10, 0, 799980, 0, -10, 2500020]},\n",
              "  {'id': 'TCI_B',\n",
              "   'data_type': {'type': 'PixelType',\n",
              "    'precision': 'int',\n",
              "    'min': 0,\n",
              "    'max': 255},\n",
              "   'dimensions': [10980, 10980],\n",
              "   'crs': 'EPSG:32613',\n",
              "   'crs_transform': [10, 0, 799980, 0, -10, 2500020]},\n",
              "  {'id': 'MSK_CLDPRB',\n",
              "   'data_type': {'type': 'PixelType',\n",
              "    'precision': 'int',\n",
              "    'min': 0,\n",
              "    'max': 255},\n",
              "   'dimensions': [5490, 5490],\n",
              "   'crs': 'EPSG:32613',\n",
              "   'crs_transform': [20, 0, 799980, 0, -20, 2500020]},\n",
              "  {'id': 'MSK_SNWPRB',\n",
              "   'data_type': {'type': 'PixelType',\n",
              "    'precision': 'int',\n",
              "    'min': 0,\n",
              "    'max': 255},\n",
              "   'dimensions': [5490, 5490],\n",
              "   'crs': 'EPSG:32613',\n",
              "   'crs_transform': [20, 0, 799980, 0, -20, 2500020]},\n",
              "  {'id': 'MSK_CLASSI_OPAQUE',\n",
              "   'data_type': {'type': 'PixelType',\n",
              "    'precision': 'int',\n",
              "    'min': 0,\n",
              "    'max': 255},\n",
              "   'dimensions': [1830, 1830],\n",
              "   'crs': 'EPSG:32613',\n",
              "   'crs_transform': [60, 0, 799980, 0, -60, 2500020]},\n",
              "  {'id': 'MSK_CLASSI_CIRRUS',\n",
              "   'data_type': {'type': 'PixelType',\n",
              "    'precision': 'int',\n",
              "    'min': 0,\n",
              "    'max': 255},\n",
              "   'dimensions': [1830, 1830],\n",
              "   'crs': 'EPSG:32613',\n",
              "   'crs_transform': [60, 0, 799980, 0, -60, 2500020]},\n",
              "  {'id': 'MSK_CLASSI_SNOW_ICE',\n",
              "   'data_type': {'type': 'PixelType',\n",
              "    'precision': 'int',\n",
              "    'min': 0,\n",
              "    'max': 255},\n",
              "   'dimensions': [1830, 1830],\n",
              "   'crs': 'EPSG:32613',\n",
              "   'crs_transform': [60, 0, 799980, 0, -60, 2500020]}],\n",
              " 'version': 1740810603955295,\n",
              " 'id': 'COPERNICUS/S2_SR/20240403T170851_20240403T171803_T13QHE',\n",
              " 'properties': {'SPACECRAFT_NAME': 'Sentinel-2A',\n",
              "  'SATURATED_DEFECTIVE_PIXEL_PERCENTAGE': 0,\n",
              "  'BOA_ADD_OFFSET_B12': -1000,\n",
              "  'CLOUD_SHADOW_PERCENTAGE': 0,\n",
              "  'system:footprint': {'type': 'LinearRing',\n",
              "   'coordinates': [[-102.1029923723216, 21.58992160987881],\n",
              "    [-102.10297650265477, 21.589918567723206],\n",
              "    [-101.04444111586088, 21.56811610350395],\n",
              "    [-101.04439554911063, 21.568151631959225],\n",
              "    [-101.0443424742297, 21.568183353616984],\n",
              "    [-101.03757104851367, 21.81557206505057],\n",
              "    [-101.03070328097311, 22.062930859945414],\n",
              "    [-101.02373772572226, 22.310280196674377],\n",
              "    [-101.01667362782699, 22.55761987646449],\n",
              "    [-101.0167120206113, 22.55766227158138],\n",
              "    [-101.01674437409307, 22.55770876202014],\n",
              "    [-101.01676024887209, 22.55771197404523],\n",
              "    [-102.0826708050059, 22.58061999434559],\n",
              "    [-102.0827164871763, 22.580584224825166],\n",
              "    [-102.08276975400611, 22.58055217470657],\n",
              "    [-102.08795132026503, 22.332914288344],\n",
              "    [-102.09306024418618, 22.08528813888388],\n",
              "    [-102.09809738730158, 21.83765335546165],\n",
              "    [-102.10306334987077, 21.59001001901014],\n",
              "    [-102.10302489642623, 21.58996791145951],\n",
              "    [-102.1029923723216, 21.58992160987881]]},\n",
              "  'SENSOR_QUALITY': 'PASSED',\n",
              "  'GENERATION_TIME': 1712190403000,\n",
              "  'CLOUDY_PIXEL_OVER_LAND_PERCENTAGE': 0.003541,\n",
              "  'CLOUD_COVERAGE_ASSESSMENT': 0.003537,\n",
              "  'THIN_CIRRUS_PERCENTAGE': 0,\n",
              "  'GRANULE_MEAN_WV': 0.367525,\n",
              "  'BOA_ADD_OFFSET_B1': -1000,\n",
              "  'BOA_ADD_OFFSET_B2': -1000,\n",
              "  'DATASTRIP_ID': 'S2A_OPER_MSI_L2A_DS_2APS_20240404T002643_S20240403T171803_N05.10',\n",
              "  'BOA_ADD_OFFSET_B5': -1000,\n",
              "  'BOA_ADD_OFFSET_B6': -1000,\n",
              "  'BOA_ADD_OFFSET_B3': -1000,\n",
              "  'BOA_ADD_OFFSET_B4': -1000,\n",
              "  'BOA_ADD_OFFSET_B9': -1000,\n",
              "  'BOA_ADD_OFFSET_B7': -1000,\n",
              "  'BOA_ADD_OFFSET_B8': -1000,\n",
              "  'GRANULE_ID': 'L2A_T13QHE_A045869_20240403T171803',\n",
              "  'MEAN_INCIDENCE_AZIMUTH_ANGLE_B8': 100.351101099437,\n",
              "  'DATATAKE_TYPE': 'INS-NOBS',\n",
              "  'MEAN_INCIDENCE_AZIMUTH_ANGLE_B9': 98.6092783311546,\n",
              "  'MEAN_INCIDENCE_AZIMUTH_ANGLE_B6': 99.0965370071331,\n",
              "  'MEAN_INCIDENCE_AZIMUTH_ANGLE_B7': 98.9989868561865,\n",
              "  'MEAN_INCIDENCE_AZIMUTH_ANGLE_B4': 99.4883209610494,\n",
              "  'NOT_VEGETATED_PERCENTAGE': 98.519939,\n",
              "  'MEAN_INCIDENCE_AZIMUTH_ANGLE_B5': 99.2727595616629,\n",
              "  'RADIOMETRIC_QUALITY': 'PASSED',\n",
              "  'MEAN_INCIDENCE_AZIMUTH_ANGLE_B2': 100.785975536935,\n",
              "  'MEAN_INCIDENCE_AZIMUTH_ANGLE_B3': 99.9821597608128,\n",
              "  'MEAN_INCIDENCE_AZIMUTH_ANGLE_B1': 98.7172418160721,\n",
              "  'HIGH_PROBA_CLOUDS_PERCENTAGE': 0.000514,\n",
              "  'UNCLASSIFIED_PERCENTAGE': 0.01295,\n",
              "  'OZONE_SOURCE': 'AUX_ECMWFT',\n",
              "  'GRANULE_MEAN_AOT': 0.058098,\n",
              "  'BOA_ADD_OFFSET_B8A': -1000,\n",
              "  'SNOW_ICE_PERCENTAGE': 0,\n",
              "  'BOA_ADD_OFFSET_B11': -1000,\n",
              "  'BOA_ADD_OFFSET_B10': -1000,\n",
              "  'GEOMETRIC_QUALITY': 'PASSED',\n",
              "  'system:asset_size': 1777078274,\n",
              "  'system:index': '20240403T170851_20240403T171803_T13QHE',\n",
              "  'DATATAKE_IDENTIFIER': 'GS2A_20240403T170851_045869_N05.10',\n",
              "  'AOT_RETRIEVAL_ACCURACY': 0,\n",
              "  'AOT_RETRIEVAL_METHOD': 'CAMS',\n",
              "  'MEAN_INCIDENCE_AZIMUTH_ANGLE_B8A': 98.8552299330576,\n",
              "  'MEAN_SOLAR_AZIMUTH_ANGLE': 126.734343957279,\n",
              "  'VEGETATION_PERCENTAGE': 1.416143,\n",
              "  'SOLAR_IRRADIANCE_B12': 85.25,\n",
              "  'SOLAR_IRRADIANCE_B10': 367.15,\n",
              "  'SOLAR_IRRADIANCE_B11': 245.59,\n",
              "  'SOLAR_IRRADIANCE_B8A': 955.32,\n",
              "  'FORMAT_CORRECTNESS': 'PASSED',\n",
              "  'system:time_end': 1712165266330,\n",
              "  'WATER_VAPOUR_RETRIEVAL_ACCURACY': 0,\n",
              "  'OZONE_VALUE': 263.16657,\n",
              "  'system:time_start': 1712165266330,\n",
              "  'PROCESSING_BASELINE': '05.10',\n",
              "  'SENSING_ORBIT_NUMBER': 112,\n",
              "  'NODATA_PIXEL_PERCENTAGE': 0,\n",
              "  'SENSING_ORBIT_DIRECTION': 'DESCENDING',\n",
              "  'GENERAL_QUALITY': 'PASSED',\n",
              "  'REFLECTANCE_CONVERSION_CORRECTION': 1.00254603175627,\n",
              "  'MEDIUM_PROBA_CLOUDS_PERCENTAGE': 0.003023,\n",
              "  'MEAN_INCIDENCE_ZENITH_ANGLE_B1': 5.56645298051577,\n",
              "  'MEAN_INCIDENCE_ZENITH_ANGLE_B5': 5.37127492482786,\n",
              "  'MEAN_INCIDENCE_ZENITH_ANGLE_B4': 5.33440553972162,\n",
              "  'MEAN_INCIDENCE_ZENITH_ANGLE_B3': 5.27076181934465,\n",
              "  'MEAN_INCIDENCE_ZENITH_ANGLE_B2': 5.21407193482128,\n",
              "  'MEAN_INCIDENCE_ZENITH_ANGLE_B9': 5.62746153750389,\n",
              "  'MEAN_INCIDENCE_ZENITH_ANGLE_B8': 5.24053435723801,\n",
              "  'MEAN_INCIDENCE_ZENITH_ANGLE_B7': 5.45933996945049,\n",
              "  'DARK_FEATURES_PERCENTAGE': 0.012611,\n",
              "  'MEAN_INCIDENCE_ZENITH_ANGLE_B6': 5.41304078833894,\n",
              "  'MEAN_SOLAR_ZENITH_ANGLE': 25.6179440502089,\n",
              "  'MEAN_INCIDENCE_ZENITH_ANGLE_B8A': 5.51550921230643,\n",
              "  'RADIATIVE_TRANSFER_ACCURACY': 0,\n",
              "  'MGRS_TILE': '13QHE',\n",
              "  'CLOUDY_PIXEL_PERCENTAGE': 0.003537,\n",
              "  'PRODUCT_ID': 'S2A_MSIL2A_20240403T170851_N0510_R112_T13QHE_20240404T002643',\n",
              "  'MEAN_INCIDENCE_ZENITH_ANGLE_B10': 5.3160396582589,\n",
              "  'SOLAR_IRRADIANCE_B9': 812.92,\n",
              "  'DEGRADED_MSI_DATA_PERCENTAGE': 0,\n",
              "  'MEAN_INCIDENCE_ZENITH_ANGLE_B11': 5.3979932833326,\n",
              "  'L2A_QUALITY': 'PASSED',\n",
              "  'MEAN_INCIDENCE_ZENITH_ANGLE_B12': 5.51269685685691,\n",
              "  'SOLAR_IRRADIANCE_B6': 1287.61,\n",
              "  'MEAN_INCIDENCE_AZIMUTH_ANGLE_B10': 99.4858046268271,\n",
              "  'SOLAR_IRRADIANCE_B5': 1424.64,\n",
              "  'MEAN_INCIDENCE_AZIMUTH_ANGLE_B11': 99.1168480828944,\n",
              "  'SOLAR_IRRADIANCE_B8': 1041.63,\n",
              "  'MEAN_INCIDENCE_AZIMUTH_ANGLE_B12': 98.7294177603882,\n",
              "  'SOLAR_IRRADIANCE_B7': 1162.08,\n",
              "  'SOLAR_IRRADIANCE_B2': 1959.66,\n",
              "  'SOLAR_IRRADIANCE_B1': 1884.69,\n",
              "  'SOLAR_IRRADIANCE_B4': 1512.06,\n",
              "  'SOLAR_IRRADIANCE_B3': 1823.24,\n",
              "  'WATER_PERCENTAGE': 0.034821}}"
            ]
          },
          "metadata": {},
          "execution_count": 23
        }
      ]
    },
    {
      "cell_type": "code",
      "source": [
        "#¿Cual es el porcentaje de nubes que cubren a la primera imagen?\n",
        "sentinel.first().get('CLOUDY_PIXEL_PERCENTAGE').getInfo()"
      ],
      "metadata": {
        "colab": {
          "base_uri": "https://localhost:8080/"
        },
        "id": "oGCKzNK3JU-n",
        "outputId": "f4d6f173-4a3d-4d80-d9cb-bc74bf1aec20"
      },
      "execution_count": null,
      "outputs": [
        {
          "output_type": "execute_result",
          "data": {
            "text/plain": [
              "0.003537"
            ]
          },
          "metadata": {},
          "execution_count": 25
        }
      ]
    },
    {
      "cell_type": "code",
      "source": [
        "#¿Cuando fue tomada esta imagen?\n",
        "datetime.datetime.fromtimestamp(sentinel.first().get('system:time_start').getInfo()/1000).strftime('%Y-%m-%d %H:%M:%S')\n"
      ],
      "metadata": {
        "colab": {
          "base_uri": "https://localhost:8080/",
          "height": 35
        },
        "id": "_Pt_SDyGJX0W",
        "outputId": "000e231a-9a1e-431f-8a5d-6d7e80c60b79"
      },
      "execution_count": null,
      "outputs": [
        {
          "output_type": "execute_result",
          "data": {
            "text/plain": [
              "'2024-04-03 17:27:46'"
            ],
            "application/vnd.google.colaboratory.intrinsic+json": {
              "type": "string"
            }
          },
          "metadata": {},
          "execution_count": 37
        }
      ]
    },
    {
      "cell_type": "code",
      "source": [
        "#'Cuántas bandas tenemos?\n",
        "sentinel.first().bandNames().getInfo()"
      ],
      "metadata": {
        "colab": {
          "base_uri": "https://localhost:8080/"
        },
        "id": "DOB261myJcqU",
        "outputId": "98ed70af-7bf8-41c6-b311-dd87e24f85b1"
      },
      "execution_count": null,
      "outputs": [
        {
          "output_type": "execute_result",
          "data": {
            "text/plain": [
              "['B1',\n",
              " 'B2',\n",
              " 'B3',\n",
              " 'B4',\n",
              " 'B5',\n",
              " 'B6',\n",
              " 'B7',\n",
              " 'B8',\n",
              " 'B8A',\n",
              " 'B9',\n",
              " 'B11',\n",
              " 'B12',\n",
              " 'AOT',\n",
              " 'WVP',\n",
              " 'SCL',\n",
              " 'TCI_R',\n",
              " 'TCI_G',\n",
              " 'TCI_B',\n",
              " 'MSK_CLDPRB',\n",
              " 'MSK_SNWPRB',\n",
              " 'MSK_CLASSI_OPAQUE',\n",
              " 'MSK_CLASSI_CIRRUS',\n",
              " 'MSK_CLASSI_SNOW_ICE']"
            ]
          },
          "metadata": {},
          "execution_count": 34
        }
      ]
    },
    {
      "cell_type": "code",
      "source": [
        "#Guarda todas las imagenes en una lista\n",
        "sentinel_list = sentinel.toList(sentinel.size());"
      ],
      "metadata": {
        "id": "HnDAA0O9Ji1r"
      },
      "execution_count": null,
      "outputs": []
    },
    {
      "cell_type": "code",
      "source": [
        "#Configura algunos parametros para las imagenes\n",
        "parameters = {\n",
        "                'min': 0,\n",
        "                'max': 3000,\n",
        "                'dimensions': 800, # square size in pixels\n",
        "                'bands': ['B4', 'B3', 'B2'] # bands to display (r,g,b)\n",
        "             }"
      ],
      "metadata": {
        "id": "rMZDemibJzzd"
      },
      "execution_count": null,
      "outputs": []
    },
    {
      "cell_type": "code",
      "source": [
        "import datetime\n",
        "\n",
        "#Crea un contenedor de datos vacio\n",
        "data = []\n",
        "\n",
        "#Ciclo que recorre cada una de las imagenes y las despliega\n",
        "for i in range(sentinel.size().getInfo()):\n",
        "\n",
        "    #Fecha de captura de las imagenes\n",
        "    timestamp_ms = ee.Image(sentinel_list.get(i)).get('system:time_start').getInfo()\n",
        "    timestamp_s = timestamp_ms / 1000\n",
        "    date_gregorian = datetime.datetime.fromtimestamp(timestamp_s).strftime('%Y-%m-%d %H:%M:%S')\n",
        "\n",
        "\n",
        "    #Porcentaje de nubosidad\n",
        "    cloud = ee.Image(sentinel_list.get(i)).get('CLOUDY_PIXEL_PERCENTAGE').getInfo()\n",
        "\n",
        "    #Muestra la información de la imagen\n",
        "    print('Image #',i,date_gregorian,'Cloud cover:',cloud)\n",
        "\n",
        "    #Despliega la imagen\n",
        "    display(Image(url = ee.Image(sentinel_list.get(i)).getThumbUrl(parameters)))\n",
        "\n",
        "    #Convierte esta información (i, fecha, nubosidad) en una lista\n",
        "    this_data = [i,date_gregorian,cloud]\n",
        "\n",
        "    #Va agregando información a la lista\n",
        "    data.append(this_data)\n",
        "\n",
        "\n",
        "#Crea un data frame\n",
        "df = pd.DataFrame(data, columns = ['Image #', 'Date', 'Cloud Cover'])"
      ],
      "metadata": {
        "colab": {
          "base_uri": "https://localhost:8080/",
          "height": 1000
        },
        "id": "V3A7iAltJ60s",
        "outputId": "9e157fe4-2229-4c6a-9b2f-7e4225f15e8c"
      },
      "execution_count": null,
      "outputs": [
        {
          "output_type": "stream",
          "name": "stdout",
          "text": [
            "Image # 0 2024-04-03 17:27:46 Cloud cover: 0.003537\n"
          ]
        },
        {
          "output_type": "display_data",
          "data": {
            "text/html": [
              "<img src=\"https://earthengine.googleapis.com/v1/projects/ee-jubaal91/thumbnails/a2b683828b4440d53a09a38c21f393df-42d220504e20703a07b4aaa4032d86be:getPixels\"/>"
            ],
            "text/plain": [
              "<IPython.core.display.Image object>"
            ]
          },
          "metadata": {}
        },
        {
          "output_type": "stream",
          "name": "stdout",
          "text": [
            "Image # 1 2024-04-03 17:27:45 Cloud cover: 0.005912\n"
          ]
        },
        {
          "output_type": "display_data",
          "data": {
            "text/html": [
              "<img src=\"https://earthengine.googleapis.com/v1/projects/ee-jubaal91/thumbnails/ab63e7385cde8a11d7a81b59c2d7382e-08b476e7dd2018e41933a933dcf59425:getPixels\"/>"
            ],
            "text/plain": [
              "<IPython.core.display.Image object>"
            ]
          },
          "metadata": {}
        },
        {
          "output_type": "stream",
          "name": "stdout",
          "text": [
            "Image # 2 2024-04-08 17:27:48 Cloud cover: 0\n"
          ]
        },
        {
          "output_type": "display_data",
          "data": {
            "text/html": [
              "<img src=\"https://earthengine.googleapis.com/v1/projects/ee-jubaal91/thumbnails/0d7ed9839ed7bc4a8e401630d31357e9-0e7d12464599a8967abe52fe4af2b3ae:getPixels\"/>"
            ],
            "text/plain": [
              "<IPython.core.display.Image object>"
            ]
          },
          "metadata": {}
        },
        {
          "output_type": "stream",
          "name": "stdout",
          "text": [
            "Image # 3 2024-04-08 17:27:47 Cloud cover: 0\n"
          ]
        },
        {
          "output_type": "display_data",
          "data": {
            "text/html": [
              "<img src=\"https://earthengine.googleapis.com/v1/projects/ee-jubaal91/thumbnails/13cbafe513e758b8b39a2eb9eafd0575-9d5f820355e280f4823f6f0915d57061:getPixels\"/>"
            ],
            "text/plain": [
              "<IPython.core.display.Image object>"
            ]
          },
          "metadata": {}
        },
        {
          "output_type": "stream",
          "name": "stdout",
          "text": [
            "Image # 4 2024-04-13 17:27:50 Cloud cover: 60.079706\n"
          ]
        },
        {
          "output_type": "display_data",
          "data": {
            "text/html": [
              "<img src=\"https://earthengine.googleapis.com/v1/projects/ee-jubaal91/thumbnails/8490089009b6b631c10bca8275827b3f-518e634d88a0f6c1a9c8b921f64d66db:getPixels\"/>"
            ],
            "text/plain": [
              "<IPython.core.display.Image object>"
            ]
          },
          "metadata": {}
        },
        {
          "output_type": "stream",
          "name": "stdout",
          "text": [
            "Image # 5 2024-04-13 17:27:50 Cloud cover: 58.581382\n"
          ]
        },
        {
          "output_type": "display_data",
          "data": {
            "text/html": [
              "<img src=\"https://earthengine.googleapis.com/v1/projects/ee-jubaal91/thumbnails/4c493cd5b6240911cd49dacc11683298-1627012dc327a55984065f9d68f7947e:getPixels\"/>"
            ],
            "text/plain": [
              "<IPython.core.display.Image object>"
            ]
          },
          "metadata": {}
        },
        {
          "output_type": "stream",
          "name": "stdout",
          "text": [
            "Image # 6 2024-04-18 17:27:49 Cloud cover: 1.839851\n"
          ]
        },
        {
          "output_type": "display_data",
          "data": {
            "text/html": [
              "<img src=\"https://earthengine.googleapis.com/v1/projects/ee-jubaal91/thumbnails/6b585c8e8f37eaeb46de19ebc1f00401-eb5434e97437275b7ed1c279647ef09c:getPixels\"/>"
            ],
            "text/plain": [
              "<IPython.core.display.Image object>"
            ]
          },
          "metadata": {}
        },
        {
          "output_type": "stream",
          "name": "stdout",
          "text": [
            "Image # 7 2024-04-18 17:27:49 Cloud cover: 2.205424\n"
          ]
        },
        {
          "output_type": "display_data",
          "data": {
            "text/html": [
              "<img src=\"https://earthengine.googleapis.com/v1/projects/ee-jubaal91/thumbnails/71761d2187e3fba1cc8c2e5818f49ea7-76d2a41e57004b2846d01b0377a94d93:getPixels\"/>"
            ],
            "text/plain": [
              "<IPython.core.display.Image object>"
            ]
          },
          "metadata": {}
        },
        {
          "output_type": "stream",
          "name": "stdout",
          "text": [
            "Image # 8 2024-04-23 17:27:51 Cloud cover: 0.00138\n"
          ]
        },
        {
          "output_type": "display_data",
          "data": {
            "text/html": [
              "<img src=\"https://earthengine.googleapis.com/v1/projects/ee-jubaal91/thumbnails/1267b797f109bd319294c84f00519abe-487cf3be12d521ad37cd6a757776943e:getPixels\"/>"
            ],
            "text/plain": [
              "<IPython.core.display.Image object>"
            ]
          },
          "metadata": {}
        },
        {
          "output_type": "stream",
          "name": "stdout",
          "text": [
            "Image # 9 2024-04-23 17:27:50 Cloud cover: 0.001437\n"
          ]
        },
        {
          "output_type": "display_data",
          "data": {
            "text/html": [
              "<img src=\"https://earthengine.googleapis.com/v1/projects/ee-jubaal91/thumbnails/44d4e7ad8eb263df4e967194e2cd4a9c-9e46d051f609607aa263c20970a17d2b:getPixels\"/>"
            ],
            "text/plain": [
              "<IPython.core.display.Image object>"
            ]
          },
          "metadata": {}
        },
        {
          "output_type": "stream",
          "name": "stdout",
          "text": [
            "Image # 10 2024-04-28 17:27:44 Cloud cover: 0.099854\n"
          ]
        },
        {
          "output_type": "display_data",
          "data": {
            "text/html": [
              "<img src=\"https://earthengine.googleapis.com/v1/projects/ee-jubaal91/thumbnails/0a59405a13b23007d7d5350d34a517c4-b83e6732751d3657ae274e70662fd777:getPixels\"/>"
            ],
            "text/plain": [
              "<IPython.core.display.Image object>"
            ]
          },
          "metadata": {}
        },
        {
          "output_type": "stream",
          "name": "stdout",
          "text": [
            "Image # 11 2024-04-28 17:27:43 Cloud cover: 0.587107\n"
          ]
        },
        {
          "output_type": "display_data",
          "data": {
            "text/html": [
              "<img src=\"https://earthengine.googleapis.com/v1/projects/ee-jubaal91/thumbnails/265692a1ada211cbcd1579978db67a7b-adbbad877057ed778c9f801e1c46b7fb:getPixels\"/>"
            ],
            "text/plain": [
              "<IPython.core.display.Image object>"
            ]
          },
          "metadata": {}
        },
        {
          "output_type": "stream",
          "name": "stdout",
          "text": [
            "Image # 12 2024-04-28 17:27:50 Cloud cover: 0.321497\n"
          ]
        },
        {
          "output_type": "display_data",
          "data": {
            "text/html": [
              "<img src=\"https://earthengine.googleapis.com/v1/projects/ee-jubaal91/thumbnails/ce679364a5576ba98854eff46a713b54-ddb62e52fc27729f9a0440b69d08b2ac:getPixels\"/>"
            ],
            "text/plain": [
              "<IPython.core.display.Image object>"
            ]
          },
          "metadata": {}
        },
        {
          "output_type": "stream",
          "name": "stdout",
          "text": [
            "Image # 13 2024-04-28 17:27:50 Cloud cover: 0.449671\n"
          ]
        },
        {
          "output_type": "display_data",
          "data": {
            "text/html": [
              "<img src=\"https://earthengine.googleapis.com/v1/projects/ee-jubaal91/thumbnails/90fd5d1c367660de02db9a3ec7a000f8-47ec3c3c02dfd589ed95a8d1a231f61b:getPixels\"/>"
            ],
            "text/plain": [
              "<IPython.core.display.Image object>"
            ]
          },
          "metadata": {}
        },
        {
          "output_type": "stream",
          "name": "stdout",
          "text": [
            "Image # 14 2024-05-03 17:27:51 Cloud cover: 0.000285\n"
          ]
        },
        {
          "output_type": "display_data",
          "data": {
            "text/html": [
              "<img src=\"https://earthengine.googleapis.com/v1/projects/ee-jubaal91/thumbnails/5c85b3d7df91aaf274d7aea92cf58d0b-de13659190027c5158796563a4ed11e1:getPixels\"/>"
            ],
            "text/plain": [
              "<IPython.core.display.Image object>"
            ]
          },
          "metadata": {}
        },
        {
          "output_type": "stream",
          "name": "stdout",
          "text": [
            "Image # 15 2024-05-03 17:27:50 Cloud cover: 3e-06\n"
          ]
        },
        {
          "output_type": "display_data",
          "data": {
            "text/html": [
              "<img src=\"https://earthengine.googleapis.com/v1/projects/ee-jubaal91/thumbnails/c4320c6812047ff439be23d85a688900-f3f0b665425de1110a4c752d4b81c06d:getPixels\"/>"
            ],
            "text/plain": [
              "<IPython.core.display.Image object>"
            ]
          },
          "metadata": {}
        },
        {
          "output_type": "stream",
          "name": "stdout",
          "text": [
            "Image # 16 2024-05-08 17:27:51 Cloud cover: 3.136681\n"
          ]
        },
        {
          "output_type": "display_data",
          "data": {
            "text/html": [
              "<img src=\"https://earthengine.googleapis.com/v1/projects/ee-jubaal91/thumbnails/97cea6e743e606df7b5ae98cd3069474-078c631c39682cbef8cdedc39d28815f:getPixels\"/>"
            ],
            "text/plain": [
              "<IPython.core.display.Image object>"
            ]
          },
          "metadata": {}
        },
        {
          "output_type": "stream",
          "name": "stdout",
          "text": [
            "Image # 17 2024-05-08 17:27:51 Cloud cover: 4.749922\n"
          ]
        },
        {
          "output_type": "display_data",
          "data": {
            "text/html": [
              "<img src=\"https://earthengine.googleapis.com/v1/projects/ee-jubaal91/thumbnails/b3120ae651a68792b13c91afcd1c479b-3240dc7853d8a187e8e1394638d36728:getPixels\"/>"
            ],
            "text/plain": [
              "<IPython.core.display.Image object>"
            ]
          },
          "metadata": {}
        },
        {
          "output_type": "stream",
          "name": "stdout",
          "text": [
            "Image # 18 2024-05-13 17:27:51 Cloud cover: 1.761159\n"
          ]
        },
        {
          "output_type": "display_data",
          "data": {
            "text/html": [
              "<img src=\"https://earthengine.googleapis.com/v1/projects/ee-jubaal91/thumbnails/71b58f7df2a6ac40f9ffc16443e3bd45-be0ef61a8f2987223859969fae4107ad:getPixels\"/>"
            ],
            "text/plain": [
              "<IPython.core.display.Image object>"
            ]
          },
          "metadata": {}
        },
        {
          "output_type": "stream",
          "name": "stdout",
          "text": [
            "Image # 19 2024-05-13 17:27:51 Cloud cover: 1.200052\n"
          ]
        },
        {
          "output_type": "display_data",
          "data": {
            "text/html": [
              "<img src=\"https://earthengine.googleapis.com/v1/projects/ee-jubaal91/thumbnails/afb1537585fb09fccd82d893b2f4eaae-db4d7306074f3259fcf1033ff1455b5b:getPixels\"/>"
            ],
            "text/plain": [
              "<IPython.core.display.Image object>"
            ]
          },
          "metadata": {}
        },
        {
          "output_type": "stream",
          "name": "stdout",
          "text": [
            "Image # 20 2024-05-18 17:27:48 Cloud cover: 0.033002\n"
          ]
        },
        {
          "output_type": "display_data",
          "data": {
            "text/html": [
              "<img src=\"https://earthengine.googleapis.com/v1/projects/ee-jubaal91/thumbnails/3649cb81c1083e3367ebf232e3d6e303-032664aa5cf05f02a9e4a5b0c3ea20ee:getPixels\"/>"
            ],
            "text/plain": [
              "<IPython.core.display.Image object>"
            ]
          },
          "metadata": {}
        },
        {
          "output_type": "stream",
          "name": "stdout",
          "text": [
            "Image # 21 2024-05-18 17:27:47 Cloud cover: 0.49068\n"
          ]
        },
        {
          "output_type": "display_data",
          "data": {
            "text/html": [
              "<img src=\"https://earthengine.googleapis.com/v1/projects/ee-jubaal91/thumbnails/27c06dba916dc3a1c0e89ce9d6e5ad3b-b05dcc99fcd11b5befb703a7ff70a0c3:getPixels\"/>"
            ],
            "text/plain": [
              "<IPython.core.display.Image object>"
            ]
          },
          "metadata": {}
        },
        {
          "output_type": "stream",
          "name": "stdout",
          "text": [
            "Image # 22 2024-05-23 17:27:47 Cloud cover: 0\n"
          ]
        },
        {
          "output_type": "display_data",
          "data": {
            "text/html": [
              "<img src=\"https://earthengine.googleapis.com/v1/projects/ee-jubaal91/thumbnails/a5ec06dfd3e55c426959c823dde50a6c-fe3959e381812588234c4d31d43ad0be:getPixels\"/>"
            ],
            "text/plain": [
              "<IPython.core.display.Image object>"
            ]
          },
          "metadata": {}
        },
        {
          "output_type": "stream",
          "name": "stdout",
          "text": [
            "Image # 23 2024-05-23 17:27:46 Cloud cover: 0\n"
          ]
        },
        {
          "output_type": "display_data",
          "data": {
            "text/html": [
              "<img src=\"https://earthengine.googleapis.com/v1/projects/ee-jubaal91/thumbnails/f2dcc108712c15ae2f7f5746840f0688-5e6abc71cc66195bb3df9f27f30441b0:getPixels\"/>"
            ],
            "text/plain": [
              "<IPython.core.display.Image object>"
            ]
          },
          "metadata": {}
        },
        {
          "output_type": "stream",
          "name": "stdout",
          "text": [
            "Image # 24 2024-05-28 17:27:48 Cloud cover: 6.674603\n"
          ]
        },
        {
          "output_type": "display_data",
          "data": {
            "text/html": [
              "<img src=\"https://earthengine.googleapis.com/v1/projects/ee-jubaal91/thumbnails/f993399f326e33b979bc831ed684e4db-1887b0dbd0e8f96624c3ae285080854a:getPixels\"/>"
            ],
            "text/plain": [
              "<IPython.core.display.Image object>"
            ]
          },
          "metadata": {}
        },
        {
          "output_type": "stream",
          "name": "stdout",
          "text": [
            "Image # 25 2024-05-28 17:27:47 Cloud cover: 6.595111\n"
          ]
        },
        {
          "output_type": "display_data",
          "data": {
            "text/html": [
              "<img src=\"https://earthengine.googleapis.com/v1/projects/ee-jubaal91/thumbnails/8e8f1047e0a87622f0f0931675d0692c-07845939a46515e382a380a9d705336b:getPixels\"/>"
            ],
            "text/plain": [
              "<IPython.core.display.Image object>"
            ]
          },
          "metadata": {}
        }
      ]
    },
    {
      "cell_type": "code",
      "source": [
        "#Datos del data frame\n",
        "df"
      ],
      "metadata": {
        "colab": {
          "base_uri": "https://localhost:8080/",
          "height": 864
        },
        "id": "Fcz-NRJIKAre",
        "outputId": "f983fc3c-9062-4ef7-d810-42caff666157"
      },
      "execution_count": null,
      "outputs": [
        {
          "output_type": "execute_result",
          "data": {
            "text/plain": [
              "    Image #                 Date  Cloud Cover\n",
              "0         0  2024-04-03 17:27:46     0.003537\n",
              "1         1  2024-04-03 17:27:45     0.005912\n",
              "2         2  2024-04-08 17:27:48     0.000000\n",
              "3         3  2024-04-08 17:27:47     0.000000\n",
              "4         4  2024-04-13 17:27:50    60.079706\n",
              "5         5  2024-04-13 17:27:50    58.581382\n",
              "6         6  2024-04-18 17:27:49     1.839851\n",
              "7         7  2024-04-18 17:27:49     2.205424\n",
              "8         8  2024-04-23 17:27:51     0.001380\n",
              "9         9  2024-04-23 17:27:50     0.001437\n",
              "10       10  2024-04-28 17:27:44     0.099854\n",
              "11       11  2024-04-28 17:27:43     0.587107\n",
              "12       12  2024-04-28 17:27:50     0.321497\n",
              "13       13  2024-04-28 17:27:50     0.449671\n",
              "14       14  2024-05-03 17:27:51     0.000285\n",
              "15       15  2024-05-03 17:27:50     0.000003\n",
              "16       16  2024-05-08 17:27:51     3.136681\n",
              "17       17  2024-05-08 17:27:51     4.749922\n",
              "18       18  2024-05-13 17:27:51     1.761159\n",
              "19       19  2024-05-13 17:27:51     1.200052\n",
              "20       20  2024-05-18 17:27:48     0.033002\n",
              "21       21  2024-05-18 17:27:47     0.490680\n",
              "22       22  2024-05-23 17:27:47     0.000000\n",
              "23       23  2024-05-23 17:27:46     0.000000\n",
              "24       24  2024-05-28 17:27:48     6.674603\n",
              "25       25  2024-05-28 17:27:47     6.595111"
            ],
            "text/html": [
              "\n",
              "  <div id=\"df-763e2e16-0b96-4b7e-b96e-08d97c50cce9\" class=\"colab-df-container\">\n",
              "    <div>\n",
              "<style scoped>\n",
              "    .dataframe tbody tr th:only-of-type {\n",
              "        vertical-align: middle;\n",
              "    }\n",
              "\n",
              "    .dataframe tbody tr th {\n",
              "        vertical-align: top;\n",
              "    }\n",
              "\n",
              "    .dataframe thead th {\n",
              "        text-align: right;\n",
              "    }\n",
              "</style>\n",
              "<table border=\"1\" class=\"dataframe\">\n",
              "  <thead>\n",
              "    <tr style=\"text-align: right;\">\n",
              "      <th></th>\n",
              "      <th>Image #</th>\n",
              "      <th>Date</th>\n",
              "      <th>Cloud Cover</th>\n",
              "    </tr>\n",
              "  </thead>\n",
              "  <tbody>\n",
              "    <tr>\n",
              "      <th>0</th>\n",
              "      <td>0</td>\n",
              "      <td>2024-04-03 17:27:46</td>\n",
              "      <td>0.003537</td>\n",
              "    </tr>\n",
              "    <tr>\n",
              "      <th>1</th>\n",
              "      <td>1</td>\n",
              "      <td>2024-04-03 17:27:45</td>\n",
              "      <td>0.005912</td>\n",
              "    </tr>\n",
              "    <tr>\n",
              "      <th>2</th>\n",
              "      <td>2</td>\n",
              "      <td>2024-04-08 17:27:48</td>\n",
              "      <td>0.000000</td>\n",
              "    </tr>\n",
              "    <tr>\n",
              "      <th>3</th>\n",
              "      <td>3</td>\n",
              "      <td>2024-04-08 17:27:47</td>\n",
              "      <td>0.000000</td>\n",
              "    </tr>\n",
              "    <tr>\n",
              "      <th>4</th>\n",
              "      <td>4</td>\n",
              "      <td>2024-04-13 17:27:50</td>\n",
              "      <td>60.079706</td>\n",
              "    </tr>\n",
              "    <tr>\n",
              "      <th>5</th>\n",
              "      <td>5</td>\n",
              "      <td>2024-04-13 17:27:50</td>\n",
              "      <td>58.581382</td>\n",
              "    </tr>\n",
              "    <tr>\n",
              "      <th>6</th>\n",
              "      <td>6</td>\n",
              "      <td>2024-04-18 17:27:49</td>\n",
              "      <td>1.839851</td>\n",
              "    </tr>\n",
              "    <tr>\n",
              "      <th>7</th>\n",
              "      <td>7</td>\n",
              "      <td>2024-04-18 17:27:49</td>\n",
              "      <td>2.205424</td>\n",
              "    </tr>\n",
              "    <tr>\n",
              "      <th>8</th>\n",
              "      <td>8</td>\n",
              "      <td>2024-04-23 17:27:51</td>\n",
              "      <td>0.001380</td>\n",
              "    </tr>\n",
              "    <tr>\n",
              "      <th>9</th>\n",
              "      <td>9</td>\n",
              "      <td>2024-04-23 17:27:50</td>\n",
              "      <td>0.001437</td>\n",
              "    </tr>\n",
              "    <tr>\n",
              "      <th>10</th>\n",
              "      <td>10</td>\n",
              "      <td>2024-04-28 17:27:44</td>\n",
              "      <td>0.099854</td>\n",
              "    </tr>\n",
              "    <tr>\n",
              "      <th>11</th>\n",
              "      <td>11</td>\n",
              "      <td>2024-04-28 17:27:43</td>\n",
              "      <td>0.587107</td>\n",
              "    </tr>\n",
              "    <tr>\n",
              "      <th>12</th>\n",
              "      <td>12</td>\n",
              "      <td>2024-04-28 17:27:50</td>\n",
              "      <td>0.321497</td>\n",
              "    </tr>\n",
              "    <tr>\n",
              "      <th>13</th>\n",
              "      <td>13</td>\n",
              "      <td>2024-04-28 17:27:50</td>\n",
              "      <td>0.449671</td>\n",
              "    </tr>\n",
              "    <tr>\n",
              "      <th>14</th>\n",
              "      <td>14</td>\n",
              "      <td>2024-05-03 17:27:51</td>\n",
              "      <td>0.000285</td>\n",
              "    </tr>\n",
              "    <tr>\n",
              "      <th>15</th>\n",
              "      <td>15</td>\n",
              "      <td>2024-05-03 17:27:50</td>\n",
              "      <td>0.000003</td>\n",
              "    </tr>\n",
              "    <tr>\n",
              "      <th>16</th>\n",
              "      <td>16</td>\n",
              "      <td>2024-05-08 17:27:51</td>\n",
              "      <td>3.136681</td>\n",
              "    </tr>\n",
              "    <tr>\n",
              "      <th>17</th>\n",
              "      <td>17</td>\n",
              "      <td>2024-05-08 17:27:51</td>\n",
              "      <td>4.749922</td>\n",
              "    </tr>\n",
              "    <tr>\n",
              "      <th>18</th>\n",
              "      <td>18</td>\n",
              "      <td>2024-05-13 17:27:51</td>\n",
              "      <td>1.761159</td>\n",
              "    </tr>\n",
              "    <tr>\n",
              "      <th>19</th>\n",
              "      <td>19</td>\n",
              "      <td>2024-05-13 17:27:51</td>\n",
              "      <td>1.200052</td>\n",
              "    </tr>\n",
              "    <tr>\n",
              "      <th>20</th>\n",
              "      <td>20</td>\n",
              "      <td>2024-05-18 17:27:48</td>\n",
              "      <td>0.033002</td>\n",
              "    </tr>\n",
              "    <tr>\n",
              "      <th>21</th>\n",
              "      <td>21</td>\n",
              "      <td>2024-05-18 17:27:47</td>\n",
              "      <td>0.490680</td>\n",
              "    </tr>\n",
              "    <tr>\n",
              "      <th>22</th>\n",
              "      <td>22</td>\n",
              "      <td>2024-05-23 17:27:47</td>\n",
              "      <td>0.000000</td>\n",
              "    </tr>\n",
              "    <tr>\n",
              "      <th>23</th>\n",
              "      <td>23</td>\n",
              "      <td>2024-05-23 17:27:46</td>\n",
              "      <td>0.000000</td>\n",
              "    </tr>\n",
              "    <tr>\n",
              "      <th>24</th>\n",
              "      <td>24</td>\n",
              "      <td>2024-05-28 17:27:48</td>\n",
              "      <td>6.674603</td>\n",
              "    </tr>\n",
              "    <tr>\n",
              "      <th>25</th>\n",
              "      <td>25</td>\n",
              "      <td>2024-05-28 17:27:47</td>\n",
              "      <td>6.595111</td>\n",
              "    </tr>\n",
              "  </tbody>\n",
              "</table>\n",
              "</div>\n",
              "    <div class=\"colab-df-buttons\">\n",
              "\n",
              "  <div class=\"colab-df-container\">\n",
              "    <button class=\"colab-df-convert\" onclick=\"convertToInteractive('df-763e2e16-0b96-4b7e-b96e-08d97c50cce9')\"\n",
              "            title=\"Convert this dataframe to an interactive table.\"\n",
              "            style=\"display:none;\">\n",
              "\n",
              "  <svg xmlns=\"http://www.w3.org/2000/svg\" height=\"24px\" viewBox=\"0 -960 960 960\">\n",
              "    <path d=\"M120-120v-720h720v720H120Zm60-500h600v-160H180v160Zm220 220h160v-160H400v160Zm0 220h160v-160H400v160ZM180-400h160v-160H180v160Zm440 0h160v-160H620v160ZM180-180h160v-160H180v160Zm440 0h160v-160H620v160Z\"/>\n",
              "  </svg>\n",
              "    </button>\n",
              "\n",
              "  <style>\n",
              "    .colab-df-container {\n",
              "      display:flex;\n",
              "      gap: 12px;\n",
              "    }\n",
              "\n",
              "    .colab-df-convert {\n",
              "      background-color: #E8F0FE;\n",
              "      border: none;\n",
              "      border-radius: 50%;\n",
              "      cursor: pointer;\n",
              "      display: none;\n",
              "      fill: #1967D2;\n",
              "      height: 32px;\n",
              "      padding: 0 0 0 0;\n",
              "      width: 32px;\n",
              "    }\n",
              "\n",
              "    .colab-df-convert:hover {\n",
              "      background-color: #E2EBFA;\n",
              "      box-shadow: 0px 1px 2px rgba(60, 64, 67, 0.3), 0px 1px 3px 1px rgba(60, 64, 67, 0.15);\n",
              "      fill: #174EA6;\n",
              "    }\n",
              "\n",
              "    .colab-df-buttons div {\n",
              "      margin-bottom: 4px;\n",
              "    }\n",
              "\n",
              "    [theme=dark] .colab-df-convert {\n",
              "      background-color: #3B4455;\n",
              "      fill: #D2E3FC;\n",
              "    }\n",
              "\n",
              "    [theme=dark] .colab-df-convert:hover {\n",
              "      background-color: #434B5C;\n",
              "      box-shadow: 0px 1px 3px 1px rgba(0, 0, 0, 0.15);\n",
              "      filter: drop-shadow(0px 1px 2px rgba(0, 0, 0, 0.3));\n",
              "      fill: #FFFFFF;\n",
              "    }\n",
              "  </style>\n",
              "\n",
              "    <script>\n",
              "      const buttonEl =\n",
              "        document.querySelector('#df-763e2e16-0b96-4b7e-b96e-08d97c50cce9 button.colab-df-convert');\n",
              "      buttonEl.style.display =\n",
              "        google.colab.kernel.accessAllowed ? 'block' : 'none';\n",
              "\n",
              "      async function convertToInteractive(key) {\n",
              "        const element = document.querySelector('#df-763e2e16-0b96-4b7e-b96e-08d97c50cce9');\n",
              "        const dataTable =\n",
              "          await google.colab.kernel.invokeFunction('convertToInteractive',\n",
              "                                                    [key], {});\n",
              "        if (!dataTable) return;\n",
              "\n",
              "        const docLinkHtml = 'Like what you see? Visit the ' +\n",
              "          '<a target=\"_blank\" href=https://colab.research.google.com/notebooks/data_table.ipynb>data table notebook</a>'\n",
              "          + ' to learn more about interactive tables.';\n",
              "        element.innerHTML = '';\n",
              "        dataTable['output_type'] = 'display_data';\n",
              "        await google.colab.output.renderOutput(dataTable, element);\n",
              "        const docLink = document.createElement('div');\n",
              "        docLink.innerHTML = docLinkHtml;\n",
              "        element.appendChild(docLink);\n",
              "      }\n",
              "    </script>\n",
              "  </div>\n",
              "\n",
              "\n",
              "    <div id=\"df-b119771d-cc9d-47a3-9822-f2d40202437c\">\n",
              "      <button class=\"colab-df-quickchart\" onclick=\"quickchart('df-b119771d-cc9d-47a3-9822-f2d40202437c')\"\n",
              "                title=\"Suggest charts\"\n",
              "                style=\"display:none;\">\n",
              "\n",
              "<svg xmlns=\"http://www.w3.org/2000/svg\" height=\"24px\"viewBox=\"0 0 24 24\"\n",
              "     width=\"24px\">\n",
              "    <g>\n",
              "        <path d=\"M19 3H5c-1.1 0-2 .9-2 2v14c0 1.1.9 2 2 2h14c1.1 0 2-.9 2-2V5c0-1.1-.9-2-2-2zM9 17H7v-7h2v7zm4 0h-2V7h2v10zm4 0h-2v-4h2v4z\"/>\n",
              "    </g>\n",
              "</svg>\n",
              "      </button>\n",
              "\n",
              "<style>\n",
              "  .colab-df-quickchart {\n",
              "      --bg-color: #E8F0FE;\n",
              "      --fill-color: #1967D2;\n",
              "      --hover-bg-color: #E2EBFA;\n",
              "      --hover-fill-color: #174EA6;\n",
              "      --disabled-fill-color: #AAA;\n",
              "      --disabled-bg-color: #DDD;\n",
              "  }\n",
              "\n",
              "  [theme=dark] .colab-df-quickchart {\n",
              "      --bg-color: #3B4455;\n",
              "      --fill-color: #D2E3FC;\n",
              "      --hover-bg-color: #434B5C;\n",
              "      --hover-fill-color: #FFFFFF;\n",
              "      --disabled-bg-color: #3B4455;\n",
              "      --disabled-fill-color: #666;\n",
              "  }\n",
              "\n",
              "  .colab-df-quickchart {\n",
              "    background-color: var(--bg-color);\n",
              "    border: none;\n",
              "    border-radius: 50%;\n",
              "    cursor: pointer;\n",
              "    display: none;\n",
              "    fill: var(--fill-color);\n",
              "    height: 32px;\n",
              "    padding: 0;\n",
              "    width: 32px;\n",
              "  }\n",
              "\n",
              "  .colab-df-quickchart:hover {\n",
              "    background-color: var(--hover-bg-color);\n",
              "    box-shadow: 0 1px 2px rgba(60, 64, 67, 0.3), 0 1px 3px 1px rgba(60, 64, 67, 0.15);\n",
              "    fill: var(--button-hover-fill-color);\n",
              "  }\n",
              "\n",
              "  .colab-df-quickchart-complete:disabled,\n",
              "  .colab-df-quickchart-complete:disabled:hover {\n",
              "    background-color: var(--disabled-bg-color);\n",
              "    fill: var(--disabled-fill-color);\n",
              "    box-shadow: none;\n",
              "  }\n",
              "\n",
              "  .colab-df-spinner {\n",
              "    border: 2px solid var(--fill-color);\n",
              "    border-color: transparent;\n",
              "    border-bottom-color: var(--fill-color);\n",
              "    animation:\n",
              "      spin 1s steps(1) infinite;\n",
              "  }\n",
              "\n",
              "  @keyframes spin {\n",
              "    0% {\n",
              "      border-color: transparent;\n",
              "      border-bottom-color: var(--fill-color);\n",
              "      border-left-color: var(--fill-color);\n",
              "    }\n",
              "    20% {\n",
              "      border-color: transparent;\n",
              "      border-left-color: var(--fill-color);\n",
              "      border-top-color: var(--fill-color);\n",
              "    }\n",
              "    30% {\n",
              "      border-color: transparent;\n",
              "      border-left-color: var(--fill-color);\n",
              "      border-top-color: var(--fill-color);\n",
              "      border-right-color: var(--fill-color);\n",
              "    }\n",
              "    40% {\n",
              "      border-color: transparent;\n",
              "      border-right-color: var(--fill-color);\n",
              "      border-top-color: var(--fill-color);\n",
              "    }\n",
              "    60% {\n",
              "      border-color: transparent;\n",
              "      border-right-color: var(--fill-color);\n",
              "    }\n",
              "    80% {\n",
              "      border-color: transparent;\n",
              "      border-right-color: var(--fill-color);\n",
              "      border-bottom-color: var(--fill-color);\n",
              "    }\n",
              "    90% {\n",
              "      border-color: transparent;\n",
              "      border-bottom-color: var(--fill-color);\n",
              "    }\n",
              "  }\n",
              "</style>\n",
              "\n",
              "      <script>\n",
              "        async function quickchart(key) {\n",
              "          const quickchartButtonEl =\n",
              "            document.querySelector('#' + key + ' button');\n",
              "          quickchartButtonEl.disabled = true;  // To prevent multiple clicks.\n",
              "          quickchartButtonEl.classList.add('colab-df-spinner');\n",
              "          try {\n",
              "            const charts = await google.colab.kernel.invokeFunction(\n",
              "                'suggestCharts', [key], {});\n",
              "          } catch (error) {\n",
              "            console.error('Error during call to suggestCharts:', error);\n",
              "          }\n",
              "          quickchartButtonEl.classList.remove('colab-df-spinner');\n",
              "          quickchartButtonEl.classList.add('colab-df-quickchart-complete');\n",
              "        }\n",
              "        (() => {\n",
              "          let quickchartButtonEl =\n",
              "            document.querySelector('#df-b119771d-cc9d-47a3-9822-f2d40202437c button');\n",
              "          quickchartButtonEl.style.display =\n",
              "            google.colab.kernel.accessAllowed ? 'block' : 'none';\n",
              "        })();\n",
              "      </script>\n",
              "    </div>\n",
              "\n",
              "  <div id=\"id_ec5fa57a-d894-438f-9d9a-cfda23f310cd\">\n",
              "    <style>\n",
              "      .colab-df-generate {\n",
              "        background-color: #E8F0FE;\n",
              "        border: none;\n",
              "        border-radius: 50%;\n",
              "        cursor: pointer;\n",
              "        display: none;\n",
              "        fill: #1967D2;\n",
              "        height: 32px;\n",
              "        padding: 0 0 0 0;\n",
              "        width: 32px;\n",
              "      }\n",
              "\n",
              "      .colab-df-generate:hover {\n",
              "        background-color: #E2EBFA;\n",
              "        box-shadow: 0px 1px 2px rgba(60, 64, 67, 0.3), 0px 1px 3px 1px rgba(60, 64, 67, 0.15);\n",
              "        fill: #174EA6;\n",
              "      }\n",
              "\n",
              "      [theme=dark] .colab-df-generate {\n",
              "        background-color: #3B4455;\n",
              "        fill: #D2E3FC;\n",
              "      }\n",
              "\n",
              "      [theme=dark] .colab-df-generate:hover {\n",
              "        background-color: #434B5C;\n",
              "        box-shadow: 0px 1px 3px 1px rgba(0, 0, 0, 0.15);\n",
              "        filter: drop-shadow(0px 1px 2px rgba(0, 0, 0, 0.3));\n",
              "        fill: #FFFFFF;\n",
              "      }\n",
              "    </style>\n",
              "    <button class=\"colab-df-generate\" onclick=\"generateWithVariable('df')\"\n",
              "            title=\"Generate code using this dataframe.\"\n",
              "            style=\"display:none;\">\n",
              "\n",
              "  <svg xmlns=\"http://www.w3.org/2000/svg\" height=\"24px\"viewBox=\"0 0 24 24\"\n",
              "       width=\"24px\">\n",
              "    <path d=\"M7,19H8.4L18.45,9,17,7.55,7,17.6ZM5,21V16.75L18.45,3.32a2,2,0,0,1,2.83,0l1.4,1.43a1.91,1.91,0,0,1,.58,1.4,1.91,1.91,0,0,1-.58,1.4L9.25,21ZM18.45,9,17,7.55Zm-12,3A5.31,5.31,0,0,0,4.9,8.1,5.31,5.31,0,0,0,1,6.5,5.31,5.31,0,0,0,4.9,4.9,5.31,5.31,0,0,0,6.5,1,5.31,5.31,0,0,0,8.1,4.9,5.31,5.31,0,0,0,12,6.5,5.46,5.46,0,0,0,6.5,12Z\"/>\n",
              "  </svg>\n",
              "    </button>\n",
              "    <script>\n",
              "      (() => {\n",
              "      const buttonEl =\n",
              "        document.querySelector('#id_ec5fa57a-d894-438f-9d9a-cfda23f310cd button.colab-df-generate');\n",
              "      buttonEl.style.display =\n",
              "        google.colab.kernel.accessAllowed ? 'block' : 'none';\n",
              "\n",
              "      buttonEl.onclick = () => {\n",
              "        google.colab.notebook.generateWithVariable('df');\n",
              "      }\n",
              "      })();\n",
              "    </script>\n",
              "  </div>\n",
              "\n",
              "    </div>\n",
              "  </div>\n"
            ],
            "application/vnd.google.colaboratory.intrinsic+json": {
              "type": "dataframe",
              "variable_name": "df",
              "summary": "{\n  \"name\": \"df\",\n  \"rows\": 26,\n  \"fields\": [\n    {\n      \"column\": \"Image #\",\n      \"properties\": {\n        \"dtype\": \"number\",\n        \"std\": 7,\n        \"min\": 0,\n        \"max\": 25,\n        \"num_unique_values\": 26,\n        \"samples\": [\n          8,\n          16,\n          0\n        ],\n        \"semantic_type\": \"\",\n        \"description\": \"\"\n      }\n    },\n    {\n      \"column\": \"Date\",\n      \"properties\": {\n        \"dtype\": \"object\",\n        \"num_unique_values\": 21,\n        \"samples\": [\n          \"2024-04-03 17:27:46\",\n          \"2024-05-23 17:27:47\",\n          \"2024-05-18 17:27:48\"\n        ],\n        \"semantic_type\": \"\",\n        \"description\": \"\"\n      }\n    },\n    {\n      \"column\": \"Cloud Cover\",\n      \"properties\": {\n        \"dtype\": \"number\",\n        \"std\": 15.904321175034475,\n        \"min\": 0.0,\n        \"max\": 60.079706,\n        \"num_unique_values\": 23,\n        \"samples\": [\n          3.136681,\n          0.099854,\n          0.003537\n        ],\n        \"semantic_type\": \"\",\n        \"description\": \"\"\n      }\n    }\n  ]\n}"
            }
          },
          "metadata": {},
          "execution_count": 40
        }
      ]
    },
    {
      "cell_type": "code",
      "source": [
        "# create a list of images we want (before, during, after)\n",
        "landsat_sequence = [0,2,5]"
      ],
      "metadata": {
        "id": "qNq_tUwWKExX"
      },
      "execution_count": null,
      "outputs": []
    },
    {
      "cell_type": "code",
      "source": [
        "# Define a region of interest with a buffer zone of 20 km\n",
        "roi = poi.buffer(20000) # meters"
      ],
      "metadata": {
        "id": "S55hPjHuKSyg"
      },
      "execution_count": null,
      "outputs": []
    },
    {
      "cell_type": "code",
      "source": [
        "parameters = {\n",
        "                'min': 0,\n",
        "                'max': 3000,\n",
        "                'dimensions': 800,\n",
        "                'bands': ['B4', 'B3', 'B2'],\n",
        "                'region':roi\n",
        "             }"
      ],
      "metadata": {
        "id": "XalnPR4dKX-3"
      },
      "execution_count": null,
      "outputs": []
    },
    {
      "cell_type": "code",
      "source": [
        "for i in landsat_sequence:\n",
        "\n",
        "    # when was this image taken?\n",
        "    date = ee.Image(landsat_list.get(i)).get('DATE_ACQUIRED').getInfo()\n",
        "\n",
        "    # cloud cover\n",
        "    cloud = ee.Image(landsat_list.get(i)).get('CLOUD_COVER').getInfo()\n",
        "\n",
        "    print('Image #',i,date,'Cloud cover:',cloud)\n",
        "\n",
        "    display(Image(url = ee.Image(landsat_list.get(i)).getThumbUrl(parameters)))"
      ],
      "metadata": {
        "colab": {
          "base_uri": "https://localhost:8080/",
          "height": 1000
        },
        "id": "6PMDrH3EKb1X",
        "outputId": "6b1404f4-63e0-4ae8-f673-ce6d2926ab69"
      },
      "execution_count": null,
      "outputs": [
        {
          "output_type": "stream",
          "name": "stdout",
          "text": [
            "Image # 0 2018-10-07 Cloud cover: 0.05\n"
          ]
        },
        {
          "output_type": "display_data",
          "data": {
            "text/html": [
              "<img src=\"https://earthengine.googleapis.com/v1/projects/ee-jubaal91/thumbnails/ccc5d8974319c2e86fd7f06854a97171-efde0d68b44676ffc465a03e766d3e12:getPixels\"/>"
            ],
            "text/plain": [
              "<IPython.core.display.Image object>"
            ]
          },
          "metadata": {}
        },
        {
          "output_type": "stream",
          "name": "stdout",
          "text": [
            "Image # 2 2018-11-08 Cloud cover: 11.83\n"
          ]
        },
        {
          "output_type": "display_data",
          "data": {
            "text/html": [
              "<img src=\"https://earthengine.googleapis.com/v1/projects/ee-jubaal91/thumbnails/ef07f9409a373f533a77c48b017ea2fc-ced960b152a8dc1536e09f955696e1ef:getPixels\"/>"
            ],
            "text/plain": [
              "<IPython.core.display.Image object>"
            ]
          },
          "metadata": {}
        },
        {
          "output_type": "stream",
          "name": "stdout",
          "text": [
            "Image # 5 2018-12-26 Cloud cover: 5.99\n"
          ]
        },
        {
          "output_type": "display_data",
          "data": {
            "text/html": [
              "<img src=\"https://earthengine.googleapis.com/v1/projects/ee-jubaal91/thumbnails/dc3c154823a246b2f3a6f190eac535dc-07ad01b7c5609a99801639f38369c9f8:getPixels\"/>"
            ],
            "text/plain": [
              "<IPython.core.display.Image object>"
            ]
          },
          "metadata": {}
        }
      ]
    },
    {
      "cell_type": "code",
      "source": [],
      "metadata": {
        "id": "8ynzjPWRKpME"
      },
      "execution_count": null,
      "outputs": []
    },
    {
      "cell_type": "code",
      "metadata": {
        "colab": {
          "base_uri": "https://localhost:8080/"
        },
        "id": "71bf59c2",
        "outputId": "babddb80-f804-4536-928e-aa3974d27091"
      },
      "source": [
        "\n",
        "\n",
        "timestamp_ms = sentinel.first().get('system:time_start').getInfo()\n",
        "timestamp_s = timestamp_ms / 1000\n",
        "date_gregorian = datetime.datetime.fromtimestamp(timestamp_s).strftime('%Y-%m-%d %H:%M:%S')\n",
        "\n",
        "print(date_gregorian)"
      ],
      "execution_count": null,
      "outputs": [
        {
          "output_type": "stream",
          "name": "stdout",
          "text": [
            "2024-04-03 17:27:46\n"
          ]
        }
      ]
    }
  ]
}